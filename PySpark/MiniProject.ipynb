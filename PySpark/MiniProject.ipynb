{
 "cells": [
  {
   "cell_type": "markdown",
   "metadata": {
    "application/vnd.databricks.v1+cell": {
     "cellMetadata": {},
     "inputWidgets": {},
     "nuid": "0037d7e8-340f-482e-8b65-b72ee5f4e7ee",
     "showTitle": false,
     "title": ""
    }
   },
   "source": [
    "# Aim: \n",
    "\n",
    "The aim of this project is to analyse the order and product tables of two restaurants. While looking at the data, I found that there was a difference between product price that sales price. So far, I've performed various aggregations and plotted out some key findings below. "
   ]
  },
  {
   "cell_type": "code",
   "execution_count": 0,
   "metadata": {
    "application/vnd.databricks.v1+cell": {
     "cellMetadata": {
      "byteLimit": 2048000,
      "rowLimit": 10000
     },
     "inputWidgets": {},
     "nuid": "5f58bdd9-4303-43b0-be23-367e649f8481",
     "showTitle": false,
     "title": ""
    }
   },
   "outputs": [],
   "source": [
    "restaurant_1_orders = sqlContext.read.load('/FileStore/tables/restaurant_1_orders.csv',format='csv',header='True',inferSchema='True')\n",
    "restaurant_1_products = sqlContext.read.load('/FileStore/tables/restaurant_1_products_price.csv',format='csv',header='True',inferSchema='True')"
   ]
  },
  {
   "cell_type": "code",
   "execution_count": 0,
   "metadata": {
    "application/vnd.databricks.v1+cell": {
     "cellMetadata": {
      "byteLimit": 2048000,
      "rowLimit": 10000
     },
     "inputWidgets": {},
     "nuid": "7d709d09-50a6-47bd-be68-57701e3ff51f",
     "showTitle": false,
     "title": ""
    }
   },
   "outputs": [
    {
     "output_type": "stream",
     "name": "stdout",
     "output_type": "stream",
     "text": [
      "+------------+----------------+--------------------+--------+-------------+--------------+\n|Order Number|      Order Date|           Item Name|Quantity|Product Price|Total products|\n+------------+----------------+--------------------+--------+-------------+--------------+\n|       16118|03/08/2019 20:25|       Plain Papadum|       2|          0.8|             6|\n|       16118|03/08/2019 20:25|    King Prawn Balti|       1|        12.95|             6|\n|       16118|03/08/2019 20:25|         Garlic Naan|       1|         2.95|             6|\n|       16118|03/08/2019 20:25|       Mushroom Rice|       1|         3.95|             6|\n|       16118|03/08/2019 20:25| Paneer Tikka Masala|       1|         8.95|             6|\n|       16118|03/08/2019 20:25|       Mango Chutney|       1|          0.5|             6|\n|       16117|03/08/2019 20:17|          Plain Naan|       1|          2.6|             7|\n|       16117|03/08/2019 20:17|       Mushroom Rice|       1|         3.95|             7|\n|       16117|03/08/2019 20:17|Tandoori Chicken ...|       1|         4.95|             7|\n|       16117|03/08/2019 20:17|     Vindaloo - Lamb|       1|         7.95|             7|\n|       16117|03/08/2019 20:17|             Chapati|       1|         1.95|             7|\n|       16117|03/08/2019 20:17|          Lamb Tikka|       1|         4.95|             7|\n|       16117|03/08/2019 20:17|         Saag Paneer|       1|         5.95|             7|\n|       16116|03/08/2019 20:09|          Aloo Chaat|       1|         4.95|             5|\n|       16116|03/08/2019 20:09|      Chicken Pakora|       1|         5.95|             5|\n|       16116|03/08/2019 20:09|Chicken Chilli Ga...|       1|         9.95|             5|\n|       16116|03/08/2019 20:09|        Lamb Biryani|       1|         9.95|             5|\n|       16116|03/08/2019 20:09|          Keema Naan|       1|         2.95|             5|\n|       16115|03/08/2019 20:01|      Chicken Pakora|       1|         5.95|             7|\n|       16115|03/08/2019 20:01|       Plain Papadum|       1|          0.8|             7|\n+------------+----------------+--------------------+--------+-------------+--------------+\nonly showing top 20 rows\n\n"
     ]
    }
   ],
   "source": [
    "restaurant_1_orders.show()\n",
    "#restaurant_1_orders.count()"
   ]
  },
  {
   "cell_type": "code",
   "execution_count": 0,
   "metadata": {
    "application/vnd.databricks.v1+cell": {
     "cellMetadata": {
      "byteLimit": 2048000,
      "rowLimit": 10000
     },
     "inputWidgets": {},
     "nuid": "b3a33649-f94d-4490-b9f5-70606e3342eb",
     "showTitle": false,
     "title": ""
    }
   },
   "outputs": [
    {
     "output_type": "stream",
     "name": "stdout",
     "output_type": "stream",
     "text": [
      "+-------------+-------------+\n|    Item Name|Product Price|\n+-------------+-------------+\n|   Mint Sauce|          0.5|\n|  Lime Pickle|          0.5|\n|Mango Chutney|          0.5|\n|    Red Sauce|          0.5|\n|Onion Chutney|          0.5|\n|Plain Papadum|          0.8|\n|Spicy Papadum|          0.8|\n|      Chapati|         1.95|\n|        Puree|         1.95|\n|Tandoori Roti|          2.6|\n|   Plain Naan|          2.6|\n|       Raitha|         2.95|\n|   Keema Naan|         2.95|\n|Peshwari Naan|         2.95|\n|   Pilau Rice|         2.95|\n|  Green Salad|         2.95|\n|  Bottle Coke|         2.95|\n|   Plain Rice|         2.95|\n|  Garlic Naan|         2.95|\n|   Onion Naan|         2.95|\n+-------------+-------------+\nonly showing top 20 rows\n\n"
     ]
    }
   ],
   "source": [
    "restaurant_1_products.show()\n",
    "#restaurant_1_products.count()"
   ]
  },
  {
   "cell_type": "code",
   "execution_count": 0,
   "metadata": {
    "application/vnd.databricks.v1+cell": {
     "cellMetadata": {
      "byteLimit": 2048000,
      "rowLimit": 10000
     },
     "inputWidgets": {},
     "nuid": "e39a8f4d-f8e9-44f6-8ba7-4aac1c7447a9",
     "showTitle": false,
     "title": ""
    }
   },
   "outputs": [
    {
     "output_type": "display_data",
     "data": {
      "text/html": [
       "<style scoped>\n",
       "  .table-result-container {\n",
       "    max-height: 300px;\n",
       "    overflow: auto;\n",
       "  }\n",
       "  table, th, td {\n",
       "    border: 1px solid black;\n",
       "    border-collapse: collapse;\n",
       "  }\n",
       "  th, td {\n",
       "    padding: 5px;\n",
       "  }\n",
       "  th {\n",
       "    text-align: left;\n",
       "  }\n",
       "</style><div class='table-result-container'><table class='table-result'><thead style='background-color: white'><tr><th>summary</th><th>Order Number</th><th>Order Date</th><th>Item Name</th><th>Quantity</th><th>Product Price</th><th>Total products</th></tr></thead><tbody><tr><td>count</td><td>74818</td><td>74818</td><td>74818</td><td>74818</td><td>74818</td><td>74818</td></tr><tr><td>mean</td><td>9115.63816193964</td><td>null</td><td>null</td><td>1.24356438290251</td><td>5.286491886982787</td><td>6.93143361223235</td></tr><tr><td>stddev</td><td>4052.2104520331745</td><td>null</td><td>null</td><td>0.7982073410496792</td><td>3.3382213559897</td><td>3.9548324912473527</td></tr><tr><td>min</td><td>630</td><td>01/01/2017 17:31</td><td>Aloo Chaat</td><td>1</td><td>0.5</td><td>1</td></tr><tr><td>max</td><td>16118</td><td>31/12/2018 21:56</td><td>Vindaloo Sauce</td><td>51</td><td>17.95</td><td>60</td></tr></tbody></table></div>"
      ]
     },
     "metadata": {
      "application/vnd.databricks.v1+output": {
       "addedWidgets": {},
       "aggData": [],
       "aggError": "",
       "aggOverflow": false,
       "aggSchema": [],
       "aggSeriesLimitReached": false,
       "aggType": "",
       "arguments": {},
       "columnCustomDisplayInfos": {},
       "data": [
        [
         "count",
         "74818",
         "74818",
         "74818",
         "74818",
         "74818",
         "74818"
        ],
        [
         "mean",
         "9115.63816193964",
         null,
         null,
         "1.24356438290251",
         "5.286491886982787",
         "6.93143361223235"
        ],
        [
         "stddev",
         "4052.2104520331745",
         null,
         null,
         "0.7982073410496792",
         "3.3382213559897",
         "3.9548324912473527"
        ],
        [
         "min",
         "630",
         "01/01/2017 17:31",
         "Aloo Chaat",
         "1",
         "0.5",
         "1"
        ],
        [
         "max",
         "16118",
         "31/12/2018 21:56",
         "Vindaloo Sauce",
         "51",
         "17.95",
         "60"
        ]
       ],
       "datasetInfos": [],
       "dbfsResultPath": null,
       "isJsonSchema": true,
       "metadata": {},
       "overflow": false,
       "plotOptions": {
        "customPlotOptions": {},
        "displayType": "table",
        "pivotAggregation": null,
        "pivotColumns": null,
        "xColumns": null,
        "yColumns": null
       },
       "removedWidgets": [],
       "schema": [
        {
         "metadata": "{}",
         "name": "summary",
         "type": "\"string\""
        },
        {
         "metadata": "{}",
         "name": "Order Number",
         "type": "\"string\""
        },
        {
         "metadata": "{}",
         "name": "Order Date",
         "type": "\"string\""
        },
        {
         "metadata": "{}",
         "name": "Item Name",
         "type": "\"string\""
        },
        {
         "metadata": "{}",
         "name": "Quantity",
         "type": "\"string\""
        },
        {
         "metadata": "{}",
         "name": "Product Price",
         "type": "\"string\""
        },
        {
         "metadata": "{}",
         "name": "Total products",
         "type": "\"string\""
        }
       ],
       "type": "table"
      }
     },
     "output_type": "display_data"
    }
   ],
   "source": [
    "display(restaurant_1_orders.describe())"
   ]
  },
  {
   "cell_type": "code",
   "execution_count": 0,
   "metadata": {
    "application/vnd.databricks.v1+cell": {
     "cellMetadata": {
      "byteLimit": 2048000,
      "rowLimit": 10000
     },
     "inputWidgets": {},
     "nuid": "8c5dd947-6358-40f7-b0f1-45d76b50c15d",
     "showTitle": false,
     "title": ""
    }
   },
   "outputs": [
    {
     "output_type": "display_data",
     "data": {
      "text/html": [
       "<style scoped>\n",
       "  .table-result-container {\n",
       "    max-height: 300px;\n",
       "    overflow: auto;\n",
       "  }\n",
       "  table, th, td {\n",
       "    border: 1px solid black;\n",
       "    border-collapse: collapse;\n",
       "  }\n",
       "  th, td {\n",
       "    padding: 5px;\n",
       "  }\n",
       "  th {\n",
       "    text-align: left;\n",
       "  }\n",
       "</style><div class='table-result-container'><table class='table-result'><thead style='background-color: white'><tr><th>summary</th><th>Item Name</th><th>Product Price</th></tr></thead><tbody><tr><td>count</td><td>248</td><td>248</td></tr><tr><td>mean</td><td>null</td><td>7.981048387096797</td></tr><tr><td>stddev</td><td>null</td><td>3.326233555489663</td></tr><tr><td>min</td><td>Aloo Chaat</td><td>0.5</td></tr><tr><td>max</td><td>Vindaloo Sauce</td><td>17.95</td></tr></tbody></table></div>"
      ]
     },
     "metadata": {
      "application/vnd.databricks.v1+output": {
       "addedWidgets": {},
       "aggData": [],
       "aggError": "",
       "aggOverflow": false,
       "aggSchema": [],
       "aggSeriesLimitReached": false,
       "aggType": "",
       "arguments": {},
       "columnCustomDisplayInfos": {},
       "data": [
        [
         "count",
         "248",
         "248"
        ],
        [
         "mean",
         null,
         "7.981048387096797"
        ],
        [
         "stddev",
         null,
         "3.326233555489663"
        ],
        [
         "min",
         "Aloo Chaat",
         "0.5"
        ],
        [
         "max",
         "Vindaloo Sauce",
         "17.95"
        ]
       ],
       "datasetInfos": [],
       "dbfsResultPath": null,
       "isJsonSchema": true,
       "metadata": {},
       "overflow": false,
       "plotOptions": {
        "customPlotOptions": {},
        "displayType": "table",
        "pivotAggregation": null,
        "pivotColumns": null,
        "xColumns": null,
        "yColumns": null
       },
       "removedWidgets": [],
       "schema": [
        {
         "metadata": "{}",
         "name": "summary",
         "type": "\"string\""
        },
        {
         "metadata": "{}",
         "name": "Item Name",
         "type": "\"string\""
        },
        {
         "metadata": "{}",
         "name": "Product Price",
         "type": "\"string\""
        }
       ],
       "type": "table"
      }
     },
     "output_type": "display_data"
    }
   ],
   "source": [
    "display(restaurant_1_products.describe())"
   ]
  },
  {
   "cell_type": "markdown",
   "metadata": {
    "application/vnd.databricks.v1+cell": {
     "cellMetadata": {
      "byteLimit": 2048000,
      "rowLimit": 10000
     },
     "inputWidgets": {},
     "nuid": "e7f97299-eeae-4410-9acd-2fb4cfaf41d0",
     "showTitle": false,
     "title": ""
    }
   },
   "source": [
    "\n",
    "## Dropping duplicates from order and product tables"
   ]
  },
  {
   "cell_type": "code",
   "execution_count": 0,
   "metadata": {
    "application/vnd.databricks.v1+cell": {
     "cellMetadata": {
      "byteLimit": 2048000,
      "rowLimit": 10000
     },
     "inputWidgets": {},
     "nuid": "b197ea9d-2e39-45d0-9532-5a9499498e6a",
     "showTitle": false,
     "title": ""
    }
   },
   "outputs": [
    {
     "output_type": "display_data",
     "data": {
      "text/html": [
       "<style scoped>\n",
       "  .table-result-container {\n",
       "    max-height: 300px;\n",
       "    overflow: auto;\n",
       "  }\n",
       "  table, th, td {\n",
       "    border: 1px solid black;\n",
       "    border-collapse: collapse;\n",
       "  }\n",
       "  th, td {\n",
       "    padding: 5px;\n",
       "  }\n",
       "  th {\n",
       "    text-align: left;\n",
       "  }\n",
       "</style><div class='table-result-container'><table class='table-result'><thead style='background-color: white'><tr><th>summary</th><th>Item Name</th><th>Product Price</th></tr></thead><tbody><tr><td>count</td><td>248</td><td>248</td></tr><tr><td>mean</td><td>null</td><td>7.981048387096804</td></tr><tr><td>stddev</td><td>null</td><td>3.326233555489663</td></tr><tr><td>min</td><td>Aloo Chaat</td><td>0.5</td></tr><tr><td>max</td><td>Vindaloo Sauce</td><td>17.95</td></tr></tbody></table></div>"
      ]
     },
     "metadata": {
      "application/vnd.databricks.v1+output": {
       "addedWidgets": {},
       "aggData": [],
       "aggError": "",
       "aggOverflow": false,
       "aggSchema": [],
       "aggSeriesLimitReached": false,
       "aggType": "",
       "arguments": {},
       "columnCustomDisplayInfos": {},
       "data": [
        [
         "count",
         "248",
         "248"
        ],
        [
         "mean",
         null,
         "7.981048387096804"
        ],
        [
         "stddev",
         null,
         "3.326233555489663"
        ],
        [
         "min",
         "Aloo Chaat",
         "0.5"
        ],
        [
         "max",
         "Vindaloo Sauce",
         "17.95"
        ]
       ],
       "datasetInfos": [],
       "dbfsResultPath": null,
       "isJsonSchema": true,
       "metadata": {},
       "overflow": false,
       "plotOptions": {
        "customPlotOptions": {},
        "displayType": "table",
        "pivotAggregation": null,
        "pivotColumns": null,
        "xColumns": null,
        "yColumns": null
       },
       "removedWidgets": [],
       "schema": [
        {
         "metadata": "{}",
         "name": "summary",
         "type": "\"string\""
        },
        {
         "metadata": "{}",
         "name": "Item Name",
         "type": "\"string\""
        },
        {
         "metadata": "{}",
         "name": "Product Price",
         "type": "\"string\""
        }
       ],
       "type": "table"
      }
     },
     "output_type": "display_data"
    }
   ],
   "source": [
    "restaurant_1_products_no_duplicates = restaurant_1_products.distinct()\n",
    "display(restaurant_1_products_no_duplicates.describe())"
   ]
  },
  {
   "cell_type": "code",
   "execution_count": 0,
   "metadata": {
    "application/vnd.databricks.v1+cell": {
     "cellMetadata": {
      "byteLimit": 2048000,
      "rowLimit": 10000
     },
     "inputWidgets": {},
     "nuid": "09ecff31-3c27-42e5-9526-97bca1f8bacc",
     "showTitle": false,
     "title": ""
    }
   },
   "outputs": [
    {
     "output_type": "display_data",
     "data": {
      "text/html": [
       "<style scoped>\n",
       "  .table-result-container {\n",
       "    max-height: 300px;\n",
       "    overflow: auto;\n",
       "  }\n",
       "  table, th, td {\n",
       "    border: 1px solid black;\n",
       "    border-collapse: collapse;\n",
       "  }\n",
       "  th, td {\n",
       "    padding: 5px;\n",
       "  }\n",
       "  th {\n",
       "    text-align: left;\n",
       "  }\n",
       "</style><div class='table-result-container'><table class='table-result'><thead style='background-color: white'><tr><th>summary</th><th>Order Number</th><th>Order Date</th><th>Item Name</th><th>Quantity</th><th>Product Price</th><th>Total products</th></tr></thead><tbody><tr><td>count</td><td>74721</td><td>74721</td><td>74721</td><td>74721</td><td>74721</td><td>74721</td></tr><tr><td>mean</td><td>9116.917332476814</td><td>null</td><td>null</td><td>1.2438538028131316</td><td>5.283702707407005</td><td>6.9318799266605104</td></tr><tr><td>stddev</td><td>4051.598959886085</td><td>null</td><td>null</td><td>0.7986684235581327</td><td>3.3383770601150524</td><td>3.95590535991843</td></tr><tr><td>min</td><td>630</td><td>01/01/2017 17:31</td><td>Aloo Chaat</td><td>1</td><td>0.5</td><td>1</td></tr><tr><td>max</td><td>16118</td><td>31/12/2018 21:56</td><td>Vindaloo Sauce</td><td>51</td><td>17.95</td><td>60</td></tr></tbody></table></div>"
      ]
     },
     "metadata": {
      "application/vnd.databricks.v1+output": {
       "addedWidgets": {},
       "aggData": [],
       "aggError": "",
       "aggOverflow": false,
       "aggSchema": [],
       "aggSeriesLimitReached": false,
       "aggType": "",
       "arguments": {},
       "columnCustomDisplayInfos": {},
       "data": [
        [
         "count",
         "74721",
         "74721",
         "74721",
         "74721",
         "74721",
         "74721"
        ],
        [
         "mean",
         "9116.917332476814",
         null,
         null,
         "1.2438538028131316",
         "5.283702707407005",
         "6.9318799266605104"
        ],
        [
         "stddev",
         "4051.598959886085",
         null,
         null,
         "0.7986684235581327",
         "3.3383770601150524",
         "3.95590535991843"
        ],
        [
         "min",
         "630",
         "01/01/2017 17:31",
         "Aloo Chaat",
         "1",
         "0.5",
         "1"
        ],
        [
         "max",
         "16118",
         "31/12/2018 21:56",
         "Vindaloo Sauce",
         "51",
         "17.95",
         "60"
        ]
       ],
       "datasetInfos": [],
       "dbfsResultPath": null,
       "isJsonSchema": true,
       "metadata": {},
       "overflow": false,
       "plotOptions": {
        "customPlotOptions": {},
        "displayType": "table",
        "pivotAggregation": null,
        "pivotColumns": null,
        "xColumns": null,
        "yColumns": null
       },
       "removedWidgets": [],
       "schema": [
        {
         "metadata": "{}",
         "name": "summary",
         "type": "\"string\""
        },
        {
         "metadata": "{}",
         "name": "Order Number",
         "type": "\"string\""
        },
        {
         "metadata": "{}",
         "name": "Order Date",
         "type": "\"string\""
        },
        {
         "metadata": "{}",
         "name": "Item Name",
         "type": "\"string\""
        },
        {
         "metadata": "{}",
         "name": "Quantity",
         "type": "\"string\""
        },
        {
         "metadata": "{}",
         "name": "Product Price",
         "type": "\"string\""
        },
        {
         "metadata": "{}",
         "name": "Total products",
         "type": "\"string\""
        }
       ],
       "type": "table"
      }
     },
     "output_type": "display_data"
    }
   ],
   "source": [
    "#x = restaurant_1_orders.drop_duplicates()\n",
    "#display(x.describe())\n",
    "restaurant_1_orders_no_duplicates = restaurant_1_orders.distinct() # Returns the same value as drop duplicates \n",
    "display(restaurant_1_orders_no_duplicates.describe())"
   ]
  },
  {
   "cell_type": "markdown",
   "metadata": {
    "application/vnd.databricks.v1+cell": {
     "cellMetadata": {
      "byteLimit": 2048000,
      "rowLimit": 10000
     },
     "inputWidgets": {},
     "nuid": "0bbfe5d0-a84c-47e6-9656-92de968aac75",
     "showTitle": false,
     "title": ""
    }
   },
   "source": [
    "\n",
    "## Table displaying the duplicate rows"
   ]
  },
  {
   "cell_type": "code",
   "execution_count": 0,
   "metadata": {
    "application/vnd.databricks.v1+cell": {
     "cellMetadata": {
      "byteLimit": 2048000,
      "rowLimit": 10000
     },
     "inputWidgets": {},
     "nuid": "b7744a0d-2af1-4c98-a359-6374d2cf8f7d",
     "showTitle": false,
     "title": ""
    }
   },
   "outputs": [
    {
     "output_type": "stream",
     "name": "stdout",
     "output_type": "stream",
     "text": [
      "+------------+----------------+-------------+--------+-------------+--------------+\n|Order Number|      Order Date|    Item Name|Quantity|Product Price|Total products|\n+------------+----------------+-------------+--------+-------------+--------------+\n|        5205|23/04/2017 18:40|        Korma|       1|         8.95|             5|\n|       13220|02/02/2019 18:19|Mango Chutney|       1|          0.5|             8|\n|        6561|30/08/2017 19:02|        Bhuna|       1|         8.95|             2|\n|        7080|14/10/2017 18:09|       Madras|       1|         7.95|             3|\n|       13220|02/02/2019 18:19| Rogon - Lamb|       1|         8.95|             8|\n|       13220|02/02/2019 18:19|Onion Chutney|       1|          0.5|             8|\n|        7497|23/11/2017 17:40|        Curry|       1|         7.95|             3|\n|        7213|28/10/2017 17:56|        Korma|       1|         8.95|             9|\n|       13220|02/02/2019 18:19|    Red Sauce|       1|          0.5|             8|\n|        9233|17/04/2018 17:53|       Madras|       1|         7.95|             6|\n|       16053|30/07/2019 18:43|Dhansak Sauce|       1|         3.95|             5|\n|        6705|13/09/2017 18:15|        Korma|       1|         8.95|             5|\n|        3781|22/11/2016 19:36|        Korma|       1|         8.95|             7|\n|        6703|13/09/2017 17:58|      Dupiaza|       1|         8.95|            12|\n|        4933|31/03/2017 18:39|        Korma|       1|         8.95|             6|\n|        8253|20/01/2018 21:51|       Madras|       1|         7.95|             4|\n|        7647|04/12/2017 20:12|        Korma|       1|         8.95|             4|\n|        4489|06/02/2017 20:39|        Bhuna|       1|         8.95|             5|\n|        4234|08/01/2017 17:13|        Korma|       1|         8.95|             8|\n|       16051|30/07/2019 18:38|   Lemon Rice|       1|         3.95|             4|\n+------------+----------------+-------------+--------+-------------+--------------+\nonly showing top 20 rows\n\n"
     ]
    }
   ],
   "source": [
    "duplicates = restaurant_1_orders.exceptAll(restaurant_1_orders_no_duplicates)\n",
    "#duplicates.count() # appears to be 97 duplicate rows?.. \n",
    "\n",
    "duplicates.show()"
   ]
  },
  {
   "cell_type": "code",
   "execution_count": 0,
   "metadata": {
    "application/vnd.databricks.v1+cell": {
     "cellMetadata": {
      "byteLimit": 2048000,
      "rowLimit": 10000
     },
     "inputWidgets": {},
     "nuid": "80c94d88-170d-4867-8275-5b74531cd4a8",
     "showTitle": false,
     "title": ""
    }
   },
   "outputs": [],
   "source": [
    "#restaurant_1_orders = restaurant_1_orders.withColumnRenamed('Item Name', 'itemname') \n",
    "#restaurant_1_products = restaurant_1_products.withColumnRenamed('Item Name', 'itemname') "
   ]
  },
  {
   "cell_type": "markdown",
   "metadata": {
    "application/vnd.databricks.v1+cell": {
     "cellMetadata": {
      "byteLimit": 2048000,
      "rowLimit": 10000
     },
     "inputWidgets": {},
     "nuid": "8461e2f9-f30d-42a7-a415-162b5230c526",
     "showTitle": false,
     "title": ""
    }
   },
   "source": [
    "\n",
    "### Displaying the duplicate 'Korma' orders for visualisation of duplicates, given it was in duplicates table above"
   ]
  },
  {
   "cell_type": "code",
   "execution_count": 0,
   "metadata": {
    "application/vnd.databricks.v1+cell": {
     "cellMetadata": {
      "byteLimit": 2048000,
      "rowLimit": 10000
     },
     "inputWidgets": {},
     "nuid": "b6fe7e6d-1d7e-48cd-8845-6c5800db67a0",
     "showTitle": false,
     "title": ""
    }
   },
   "outputs": [
    {
     "output_type": "stream",
     "name": "stdout",
     "output_type": "stream",
     "text": [
      "+------------+----------------+---------+--------+-------------+--------------+\n|Order Number|      Order Date|Item Name|Quantity|Product Price|Total products|\n+------------+----------------+---------+--------+-------------+--------------+\n|        5205|23/04/2017 18:40|    Korma|       1|         8.95|             5|\n|        7213|28/10/2017 17:56|    Korma|       1|         8.95|             9|\n|        6705|13/09/2017 18:15|    Korma|       1|         8.95|             5|\n|        3781|22/11/2016 19:36|    Korma|       1|         8.95|             7|\n|        4933|31/03/2017 18:39|    Korma|       1|         8.95|             6|\n|        7647|04/12/2017 20:12|    Korma|       1|         8.95|             4|\n|        4234|08/01/2017 17:13|    Korma|       1|         8.95|             8|\n|        3782|22/11/2016 19:42|    Korma|       1|         8.95|             7|\n|        3780|22/11/2016 19:30|    Korma|       1|         8.95|             7|\n|        8399|03/02/2018 17:23|    Korma|       1|         8.95|             6|\n|        3072|03/09/2016 17:07|    Korma|       1|         8.95|            10|\n|        8233|19/01/2018 20:39|    Korma|       1|         8.95|             4|\n|        8837|13/03/2018 17:42|    Korma|       1|         8.95|             8|\n|        8056|05/01/2018 12:22|    Korma|       1|         8.95|             7|\n|        6546|28/08/2017 21:11|    Korma|       1|         8.95|             5|\n|        3980|15/12/2016 18:17|    Korma|       1|         8.95|             9|\n|        9174|13/04/2018 18:41|    Korma|       1|         8.95|             6|\n|        3595|03/11/2016 18:48|    Korma|       1|         8.95|             8|\n|        8746|04/03/2018 19:18|    Korma|       1|         8.95|             4|\n|        2711|19/06/2016 17:10|    Korma|       1|         8.95|             8|\n+------------+----------------+---------+--------+-------------+--------------+\nonly showing top 20 rows\n\n"
     ]
    }
   ],
   "source": [
    "korma_orders = restaurant_1_orders.filter(restaurant_1_orders[\"Item Name\"]=='Korma')    # Plain Papadum\n",
    "\n",
    "korma_orders_no_duplicates = korma_orders.distinct()\n",
    "show_duplicate_kormas = korma_orders.exceptAll(korma_orders_no_duplicates)\n",
    "show_duplicate_kormas.show() "
   ]
  },
  {
   "cell_type": "code",
   "execution_count": 0,
   "metadata": {
    "application/vnd.databricks.v1+cell": {
     "cellMetadata": {
      "byteLimit": 2048000,
      "rowLimit": 10000
     },
     "inputWidgets": {},
     "nuid": "9363b66c-a254-426b-a520-e23e4d913850",
     "showTitle": false,
     "title": ""
    }
   },
   "outputs": [
    {
     "output_type": "stream",
     "name": "stdout",
     "output_type": "stream",
     "text": [
      "+------------+----------------+---------+--------+-------------+--------------+\n|Order Number|      Order Date|Item Name|Quantity|Product Price|Total products|\n+------------+----------------+---------+--------+-------------+--------------+\n|        5205|23/04/2017 18:40|    Korma|       1|         8.95|             5|\n|        5205|23/04/2017 18:40|    Korma|       1|         8.95|             5|\n+------------+----------------+---------+--------+-------------+--------------+\n\n"
     ]
    }
   ],
   "source": [
    "# Shows the the order 13220 is in fact duplicated as shown above \n",
    "proof_of_duplicate_order = restaurant_1_orders.filter((restaurant_1_orders[\"Item Name\"]=='Korma') & (restaurant_1_orders[\"Order Number\"]==5205)) #13220\n",
    "proof_of_duplicate_order.show()"
   ]
  },
  {
   "cell_type": "markdown",
   "metadata": {
    "application/vnd.databricks.v1+cell": {
     "cellMetadata": {
      "byteLimit": 2048000,
      "rowLimit": 10000
     },
     "inputWidgets": {},
     "nuid": "24653053-e6d7-4fd3-b358-72134dc09645",
     "showTitle": false,
     "title": ""
    }
   },
   "source": [
    "### price_check gives all items where the sales vs product price do not match!"
   ]
  },
  {
   "cell_type": "code",
   "execution_count": 0,
   "metadata": {
    "application/vnd.databricks.v1+cell": {
     "cellMetadata": {
      "byteLimit": 2048000,
      "rowLimit": 10000
     },
     "inputWidgets": {},
     "nuid": "9ed9ace7-7d0e-4fae-9a4e-d03929369e31",
     "showTitle": false,
     "title": ""
    }
   },
   "outputs": [
    {
     "output_type": "stream",
     "name": "stdout",
     "output_type": "stream",
     "text": [
      "+-------------+------------+----------------+--------+-------------+--------------+--------------+\n|    Item Name|Order Number|      Order Date|Quantity|Product Price|Total products|Product PriceB|\n+-------------+------------+----------------+--------+-------------+--------------+--------------+\n|Chicken Tikka|       12657|24/12/2018 19:08|       1|         4.95|            10|          3.95|\n|Chicken Tikka|        3508|23/10/2016 18:20|       1|         4.95|             4|          3.95|\n|Chicken Tikka|        2617|02/06/2016 21:19|       1|         4.95|             4|          3.95|\n|Chicken Tikka|        2597|30/05/2016 17:18|       1|         4.95|            11|          3.95|\n|        Korma|        6270|04/08/2017 19:15|       1|        12.95|            12|          8.95|\n|Chicken Tikka|       10311|14/07/2018 20:28|       1|         4.95|             9|          3.95|\n|Chicken Tikka|        7296|04/11/2017 19:23|       1|         4.95|             7|          3.95|\n|Chicken Tikka|        5445|16/05/2017 21:06|       1|         4.95|             7|          3.95|\n|Chicken Tikka|        2414|30/04/2016 19:15|       1|         4.95|             6|          3.95|\n|Chicken Tikka|       15321|14/06/2019 17:11|       1|         4.95|             5|          3.95|\n|Chicken Tikka|       15039|25/05/2019 22:21|       1|         4.95|             6|          3.95|\n|Chicken Tikka|       10680|12/08/2018 18:55|       1|         4.95|             9|          3.95|\n|Chicken Tikka|        7520|25/11/2017 14:18|       1|         4.95|             4|          3.95|\n|Chicken Tikka|        7030|11/10/2017 18:28|       1|         4.95|             4|          3.95|\n|Chicken Tikka|        6874|28/09/2017 17:30|       1|         4.95|             7|          3.95|\n|Chicken Tikka|        6474|23/08/2017 18:46|       1|         4.95|             6|          3.95|\n|Chicken Tikka|        3246|25/09/2016 22:35|       1|         4.95|             6|          3.95|\n|Chicken Tikka|       10554|03/08/2018 19:33|       1|         4.95|             2|          3.95|\n|Chicken Tikka|        6690|10/09/2017 19:01|       1|         4.95|             6|          3.95|\n|Chicken Tikka|        6234|30/07/2017 19:45|       1|         4.95|             5|          3.95|\n+-------------+------------+----------------+--------+-------------+--------------+--------------+\nonly showing top 20 rows\n\n"
     ]
    }
   ],
   "source": [
    "restaurant_1_products = restaurant_1_products.withColumnRenamed('Product Price', 'Product PriceB') \n",
    "\n",
    "left_join = restaurant_1_orders_no_duplicates.join(restaurant_1_products, \"Item Name\", \"left\")\n",
    "#y.show()\n",
    "\n",
    "price_check = left_join.filter(left_join['Product Price'] != left_join['Product PriceB'])\n",
    "price_check.show()\n",
    "#z.count() # 967 cases where purchase price != sales price"
   ]
  },
  {
   "cell_type": "markdown",
   "metadata": {
    "application/vnd.databricks.v1+cell": {
     "cellMetadata": {
      "byteLimit": 2048000,
      "rowLimit": 10000
     },
     "inputWidgets": {},
     "nuid": "d1eb9ba4-a8a5-4550-9b03-0f514fed51ab",
     "showTitle": false,
     "title": ""
    }
   },
   "source": [
    "\n",
    "### counts number of times items have been miss-priced "
   ]
  },
  {
   "cell_type": "code",
   "execution_count": 0,
   "metadata": {
    "application/vnd.databricks.v1+cell": {
     "cellMetadata": {
      "byteLimit": 2048000,
      "rowLimit": 10000
     },
     "inputWidgets": {},
     "nuid": "a17440cb-7c60-436d-8370-5b2fc52c397c",
     "showTitle": false,
     "title": ""
    }
   },
   "outputs": [
    {
     "output_type": "stream",
     "name": "stdout",
     "output_type": "stream",
     "text": [
      "+-------------+-------------+--------------+-----+\n|    Item Name|Product Price|Product PriceB|count|\n+-------------+-------------+--------------+-----+\n|Chicken Tikka|         4.95|          3.95|  691|\n|        Bhuna|        12.95|          8.95|   31|\n|      Dhansak|         9.95|          8.95|   27|\n|        Korma|         9.95|          8.95|   26|\n|       Madras|        11.95|          7.95|   24|\n|        Korma|        12.95|          8.95|   20|\n|        Curry|         8.95|          7.95|   19|\n|      Dhansak|        12.95|          8.95|   18|\n|        Bhuna|         9.95|          8.95|   16|\n|        Curry|        11.95|          7.95|   14|\n|       Pathia|        12.95|          8.95|   13|\n|         Saag|        12.95|          8.95|   12|\n|     Vindaloo|         8.95|          7.95|   11|\n|       Madras|         8.95|          7.95|   11|\n|     Vindaloo|        11.95|          7.95|   10|\n|         Saag|         9.95|          8.95|    5|\n|        Rogon|        12.95|          8.95|    5|\n|     Mushroom|         9.95|          8.95|    4|\n|      Dupiaza|        12.95|          8.95|    3|\n|       Pathia|         9.95|          8.95|    3|\n+-------------+-------------+--------------+-----+\nonly showing top 20 rows\n\n"
     ]
    }
   ],
   "source": [
    "count_missmatch = price_check.groupBy('Item Name','Product Price', 'Product PriceB').count().orderBy('count', ascending=0) #f2 \n",
    "count_missmatch.show() "
   ]
  },
  {
   "cell_type": "markdown",
   "metadata": {
    "application/vnd.databricks.v1+cell": {
     "cellMetadata": {
      "byteLimit": 2048000,
      "rowLimit": 10000
     },
     "inputWidgets": {},
     "nuid": "7c79b234-8859-4fa4-94f3-aac97312c045",
     "showTitle": false,
     "title": ""
    }
   },
   "source": [
    "### Items by their overpayment value along with count of customers paying it"
   ]
  },
  {
   "cell_type": "code",
   "execution_count": 0,
   "metadata": {
    "application/vnd.databricks.v1+cell": {
     "cellMetadata": {
      "byteLimit": 2048000,
      "rowLimit": 10000
     },
     "inputWidgets": {},
     "nuid": "1c5bafb4-fb1f-42fd-84af-8272fe0e6e8a",
     "showTitle": false,
     "title": ""
    }
   },
   "outputs": [
    {
     "output_type": "display_data",
     "data": {
      "text/html": [
       "<style scoped>\n",
       "  .table-result-container {\n",
       "    max-height: 300px;\n",
       "    overflow: auto;\n",
       "  }\n",
       "  table, th, td {\n",
       "    border: 1px solid black;\n",
       "    border-collapse: collapse;\n",
       "  }\n",
       "  th, td {\n",
       "    padding: 5px;\n",
       "  }\n",
       "  th {\n",
       "    text-align: left;\n",
       "  }\n",
       "</style><div class='table-result-container'><table class='table-result'><thead style='background-color: white'><tr><th>Item Name</th><th>Product Price</th><th>Product PriceB</th><th>count</th><th>Overpayment Value</th></tr></thead><tbody><tr><td>Bhuna</td><td>12.95</td><td>8.95</td><td>31</td><td>4.0</td></tr><tr><td>Korma</td><td>12.95</td><td>8.95</td><td>20</td><td>4.0</td></tr><tr><td>Dhansak</td><td>12.95</td><td>8.95</td><td>18</td><td>4.0</td></tr><tr><td>Pathia</td><td>12.95</td><td>8.95</td><td>13</td><td>4.0</td></tr><tr><td>Saag</td><td>12.95</td><td>8.95</td><td>12</td><td>4.0</td></tr><tr><td>Rogon</td><td>12.95</td><td>8.95</td><td>5</td><td>4.0</td></tr><tr><td>Dupiaza</td><td>12.95</td><td>8.95</td><td>3</td><td>4.0</td></tr><tr><td>Chicken Tikka</td><td>7.95</td><td>3.95</td><td>1</td><td>4.0</td></tr><tr><td>Madras</td><td>11.95</td><td>7.95</td><td>24</td><td>3.999999999999999</td></tr><tr><td>Curry</td><td>11.95</td><td>7.95</td><td>14</td><td>3.999999999999999</td></tr><tr><td>Vindaloo</td><td>11.95</td><td>7.95</td><td>10</td><td>3.999999999999999</td></tr><tr><td>Chicken Tikka</td><td>4.95</td><td>3.95</td><td>691</td><td>1.0</td></tr><tr><td>Dhansak</td><td>9.95</td><td>8.95</td><td>27</td><td>1.0</td></tr><tr><td>Korma</td><td>9.95</td><td>8.95</td><td>26</td><td>1.0</td></tr><tr><td>Bhuna</td><td>9.95</td><td>8.95</td><td>16</td><td>1.0</td></tr><tr><td>Saag</td><td>9.95</td><td>8.95</td><td>5</td><td>1.0</td></tr><tr><td>Mushroom</td><td>9.95</td><td>8.95</td><td>4</td><td>1.0</td></tr><tr><td>Pathia</td><td>9.95</td><td>8.95</td><td>3</td><td>1.0</td></tr><tr><td>Rogon</td><td>9.95</td><td>8.95</td><td>1</td><td>1.0</td></tr><tr><td>Sheek Kehab</td><td>5.95</td><td>4.95</td><td>1</td><td>1.0</td></tr><tr><td>Dupiaza</td><td>9.95</td><td>8.95</td><td>1</td><td>1.0</td></tr><tr><td>Curry</td><td>8.95</td><td>7.95</td><td>19</td><td>0.9999999999999991</td></tr><tr><td>Vindaloo</td><td>8.95</td><td>7.95</td><td>11</td><td>0.9999999999999991</td></tr><tr><td>Madras</td><td>8.95</td><td>7.95</td><td>11</td><td>0.9999999999999991</td></tr></tbody></table></div>"
      ]
     },
     "metadata": {
      "application/vnd.databricks.v1+output": {
       "addedWidgets": {},
       "aggData": [],
       "aggError": "",
       "aggOverflow": false,
       "aggSchema": [],
       "aggSeriesLimitReached": false,
       "aggType": "",
       "arguments": {},
       "columnCustomDisplayInfos": {},
       "data": [
        [
         "Bhuna",
         12.95,
         8.95,
         31,
         4.0
        ],
        [
         "Korma",
         12.95,
         8.95,
         20,
         4.0
        ],
        [
         "Dhansak",
         12.95,
         8.95,
         18,
         4.0
        ],
        [
         "Pathia",
         12.95,
         8.95,
         13,
         4.0
        ],
        [
         "Saag",
         12.95,
         8.95,
         12,
         4.0
        ],
        [
         "Rogon",
         12.95,
         8.95,
         5,
         4.0
        ],
        [
         "Dupiaza",
         12.95,
         8.95,
         3,
         4.0
        ],
        [
         "Chicken Tikka",
         7.95,
         3.95,
         1,
         4.0
        ],
        [
         "Madras",
         11.95,
         7.95,
         24,
         3.999999999999999
        ],
        [
         "Curry",
         11.95,
         7.95,
         14,
         3.999999999999999
        ],
        [
         "Vindaloo",
         11.95,
         7.95,
         10,
         3.999999999999999
        ],
        [
         "Chicken Tikka",
         4.95,
         3.95,
         691,
         1.0
        ],
        [
         "Dhansak",
         9.95,
         8.95,
         27,
         1.0
        ],
        [
         "Korma",
         9.95,
         8.95,
         26,
         1.0
        ],
        [
         "Bhuna",
         9.95,
         8.95,
         16,
         1.0
        ],
        [
         "Saag",
         9.95,
         8.95,
         5,
         1.0
        ],
        [
         "Mushroom",
         9.95,
         8.95,
         4,
         1.0
        ],
        [
         "Pathia",
         9.95,
         8.95,
         3,
         1.0
        ],
        [
         "Rogon",
         9.95,
         8.95,
         1,
         1.0
        ],
        [
         "Sheek Kehab",
         5.95,
         4.95,
         1,
         1.0
        ],
        [
         "Dupiaza",
         9.95,
         8.95,
         1,
         1.0
        ],
        [
         "Curry",
         8.95,
         7.95,
         19,
         0.9999999999999991
        ],
        [
         "Vindaloo",
         8.95,
         7.95,
         11,
         0.9999999999999991
        ],
        [
         "Madras",
         8.95,
         7.95,
         11,
         0.9999999999999991
        ]
       ],
       "datasetInfos": [],
       "dbfsResultPath": null,
       "isJsonSchema": true,
       "metadata": {},
       "overflow": false,
       "plotOptions": {
        "customPlotOptions": {},
        "displayType": "table",
        "pivotAggregation": null,
        "pivotColumns": null,
        "xColumns": null,
        "yColumns": null
       },
       "removedWidgets": [],
       "schema": [
        {
         "metadata": "{}",
         "name": "Item Name",
         "type": "\"string\""
        },
        {
         "metadata": "{}",
         "name": "Product Price",
         "type": "\"double\""
        },
        {
         "metadata": "{}",
         "name": "Product PriceB",
         "type": "\"double\""
        },
        {
         "metadata": "{}",
         "name": "count",
         "type": "\"long\""
        },
        {
         "metadata": "{}",
         "name": "Overpayment Value",
         "type": "\"double\""
        }
       ],
       "type": "table"
      }
     },
     "output_type": "display_data"
    }
   ],
   "source": [
    "overpayment = count_missmatch.withColumn('Overpayment Value', count_missmatch['Product Price']- count_missmatch['Product PriceB'] ).orderBy(['Overpayment Value', 'count'], ascending=[0,0])\n",
    "display(overpayment)  "
   ]
  },
  {
   "cell_type": "markdown",
   "metadata": {
    "application/vnd.databricks.v1+cell": {
     "cellMetadata": {
      "byteLimit": 2048000,
      "rowLimit": 10000
     },
     "inputWidgets": {},
     "nuid": "b8076e46-a82c-494a-9112-119753a484ab",
     "showTitle": false,
     "title": ""
    }
   },
   "source": [
    "\n",
    "### Most made from item overpayments "
   ]
  },
  {
   "cell_type": "code",
   "execution_count": 0,
   "metadata": {
    "application/vnd.databricks.v1+cell": {
     "cellMetadata": {
      "byteLimit": 2048000,
      "rowLimit": 10000
     },
     "inputWidgets": {},
     "nuid": "8b284d48-752b-427e-8a34-ffcd0766be15",
     "showTitle": false,
     "title": ""
    }
   },
   "outputs": [
    {
     "output_type": "stream",
     "name": "stdout",
     "output_type": "stream",
     "text": [
      "+-------------+-------------+--------------+-----+------------------+-----------------------+\n|    Item Name|Product Price|Product PriceB|count| Overpayment Value|Total_From_Overpayments|\n+-------------+-------------+--------------+-----+------------------+-----------------------+\n|Chicken Tikka|         4.95|          3.95|  691|               1.0|                  691.0|\n|        Bhuna|        12.95|          8.95|   31|               4.0|                  124.0|\n|       Madras|        11.95|          7.95|   24| 3.999999999999999|      95.99999999999997|\n|        Korma|        12.95|          8.95|   20|               4.0|                   80.0|\n|      Dhansak|        12.95|          8.95|   18|               4.0|                   72.0|\n|        Curry|        11.95|          7.95|   14| 3.999999999999999|     55.999999999999986|\n|       Pathia|        12.95|          8.95|   13|               4.0|                   52.0|\n|         Saag|        12.95|          8.95|   12|               4.0|                   48.0|\n|     Vindaloo|        11.95|          7.95|   10| 3.999999999999999|      39.99999999999999|\n|      Dhansak|         9.95|          8.95|   27|               1.0|                   27.0|\n|        Korma|         9.95|          8.95|   26|               1.0|                   26.0|\n|        Rogon|        12.95|          8.95|    5|               4.0|                   20.0|\n|        Curry|         8.95|          7.95|   19|0.9999999999999991|     18.999999999999982|\n|        Bhuna|         9.95|          8.95|   16|               1.0|                   16.0|\n|      Dupiaza|        12.95|          8.95|    3|               4.0|                   12.0|\n|     Vindaloo|         8.95|          7.95|   11|0.9999999999999991|      10.99999999999999|\n|       Madras|         8.95|          7.95|   11|0.9999999999999991|      10.99999999999999|\n|         Saag|         9.95|          8.95|    5|               1.0|                    5.0|\n|     Mushroom|         9.95|          8.95|    4|               1.0|                    4.0|\n|Chicken Tikka|         7.95|          3.95|    1|               4.0|                    4.0|\n+-------------+-------------+--------------+-----+------------------+-----------------------+\nonly showing top 20 rows\n\n"
     ]
    }
   ],
   "source": [
    "revenue_from_overpayment = overpayment.withColumn('Total_From_Overpayments', overpayment['count']*overpayment['Overpayment Value']).orderBy('Total_From_Overpayments',ascending=0)\n",
    "revenue_from_overpayment.show() "
   ]
  },
  {
   "cell_type": "markdown",
   "metadata": {
    "application/vnd.databricks.v1+cell": {
     "cellMetadata": {
      "byteLimit": 2048000,
      "rowLimit": 10000
     },
     "inputWidgets": {},
     "nuid": "4800e2b9-345a-4171-9e4a-5165b140942c",
     "showTitle": false,
     "title": ""
    }
   },
   "source": [
    "## Total made by items that are oversold at price N"
   ]
  },
  {
   "cell_type": "code",
   "execution_count": 0,
   "metadata": {
    "application/vnd.databricks.v1+cell": {
     "cellMetadata": {
      "byteLimit": 2048000,
      "rowLimit": 10000
     },
     "inputWidgets": {},
     "nuid": "a9bb725b-d04b-4b87-9879-019e307ca8f5",
     "showTitle": false,
     "title": ""
    }
   },
   "outputs": [
    {
     "output_type": "display_data",
     "data": {
      "text/html": [
       "<style scoped>\n",
       "  .table-result-container {\n",
       "    max-height: 300px;\n",
       "    overflow: auto;\n",
       "  }\n",
       "  table, th, td {\n",
       "    border: 1px solid black;\n",
       "    border-collapse: collapse;\n",
       "  }\n",
       "  th, td {\n",
       "    padding: 5px;\n",
       "  }\n",
       "  th {\n",
       "    text-align: left;\n",
       "  }\n",
       "</style><div class='table-result-container'><table class='table-result'><thead style='background-color: white'><tr><th>Item Name</th><th>Product Price</th><th>Product PriceB</th><th>count</th><th>Overpayment Value</th><th>Total_From_Overpayments</th><th>Total</th></tr></thead><tbody><tr><td>Chicken Tikka</td><td>4.95</td><td>3.95</td><td>691</td><td>1.0</td><td>691.0</td><td>3420.4500000000003</td></tr><tr><td>Bhuna</td><td>12.95</td><td>8.95</td><td>31</td><td>4.0</td><td>124.0</td><td>401.45</td></tr><tr><td>Madras</td><td>11.95</td><td>7.95</td><td>24</td><td>3.999999999999999</td><td>95.99999999999997</td><td>286.79999999999995</td></tr><tr><td>Dhansak</td><td>9.95</td><td>8.95</td><td>27</td><td>1.0</td><td>27.0</td><td>268.65</td></tr><tr><td>Korma</td><td>12.95</td><td>8.95</td><td>20</td><td>4.0</td><td>80.0</td><td>259.0</td></tr><tr><td>Korma</td><td>9.95</td><td>8.95</td><td>26</td><td>1.0</td><td>26.0</td><td>258.7</td></tr><tr><td>Dhansak</td><td>12.95</td><td>8.95</td><td>18</td><td>4.0</td><td>72.0</td><td>233.1</td></tr><tr><td>Curry</td><td>8.95</td><td>7.95</td><td>19</td><td>0.9999999999999991</td><td>18.999999999999982</td><td>170.04999999999998</td></tr><tr><td>Pathia</td><td>12.95</td><td>8.95</td><td>13</td><td>4.0</td><td>52.0</td><td>168.35</td></tr><tr><td>Curry</td><td>11.95</td><td>7.95</td><td>14</td><td>3.999999999999999</td><td>55.999999999999986</td><td>167.29999999999998</td></tr><tr><td>Bhuna</td><td>9.95</td><td>8.95</td><td>16</td><td>1.0</td><td>16.0</td><td>159.2</td></tr><tr><td>Saag</td><td>12.95</td><td>8.95</td><td>12</td><td>4.0</td><td>48.0</td><td>155.39999999999998</td></tr><tr><td>Vindaloo</td><td>11.95</td><td>7.95</td><td>10</td><td>3.999999999999999</td><td>39.99999999999999</td><td>119.5</td></tr><tr><td>Vindaloo</td><td>8.95</td><td>7.95</td><td>11</td><td>0.9999999999999991</td><td>10.99999999999999</td><td>98.44999999999999</td></tr><tr><td>Madras</td><td>8.95</td><td>7.95</td><td>11</td><td>0.9999999999999991</td><td>10.99999999999999</td><td>98.44999999999999</td></tr><tr><td>Rogon</td><td>12.95</td><td>8.95</td><td>5</td><td>4.0</td><td>20.0</td><td>64.75</td></tr><tr><td>Saag</td><td>9.95</td><td>8.95</td><td>5</td><td>1.0</td><td>5.0</td><td>49.75</td></tr><tr><td>Mushroom</td><td>9.95</td><td>8.95</td><td>4</td><td>1.0</td><td>4.0</td><td>39.8</td></tr><tr><td>Dupiaza</td><td>12.95</td><td>8.95</td><td>3</td><td>4.0</td><td>12.0</td><td>38.849999999999994</td></tr><tr><td>Pathia</td><td>9.95</td><td>8.95</td><td>3</td><td>1.0</td><td>3.0</td><td>29.849999999999998</td></tr><tr><td>Rogon</td><td>9.95</td><td>8.95</td><td>1</td><td>1.0</td><td>1.0</td><td>9.95</td></tr><tr><td>Dupiaza</td><td>9.95</td><td>8.95</td><td>1</td><td>1.0</td><td>1.0</td><td>9.95</td></tr><tr><td>Chicken Tikka</td><td>7.95</td><td>3.95</td><td>1</td><td>4.0</td><td>4.0</td><td>7.95</td></tr><tr><td>Sheek Kehab</td><td>5.95</td><td>4.95</td><td>1</td><td>1.0</td><td>1.0</td><td>5.95</td></tr></tbody></table></div>"
      ]
     },
     "metadata": {
      "application/vnd.databricks.v1+output": {
       "addedWidgets": {},
       "aggData": [],
       "aggError": "",
       "aggOverflow": false,
       "aggSchema": [],
       "aggSeriesLimitReached": false,
       "aggType": "",
       "arguments": {},
       "columnCustomDisplayInfos": {},
       "data": [
        [
         "Chicken Tikka",
         4.95,
         3.95,
         691,
         1.0,
         691.0,
         3420.4500000000003
        ],
        [
         "Bhuna",
         12.95,
         8.95,
         31,
         4.0,
         124.0,
         401.45
        ],
        [
         "Madras",
         11.95,
         7.95,
         24,
         3.999999999999999,
         95.99999999999997,
         286.79999999999995
        ],
        [
         "Dhansak",
         9.95,
         8.95,
         27,
         1.0,
         27.0,
         268.65
        ],
        [
         "Korma",
         12.95,
         8.95,
         20,
         4.0,
         80.0,
         259.0
        ],
        [
         "Korma",
         9.95,
         8.95,
         26,
         1.0,
         26.0,
         258.7
        ],
        [
         "Dhansak",
         12.95,
         8.95,
         18,
         4.0,
         72.0,
         233.1
        ],
        [
         "Curry",
         8.95,
         7.95,
         19,
         0.9999999999999991,
         18.999999999999982,
         170.04999999999998
        ],
        [
         "Pathia",
         12.95,
         8.95,
         13,
         4.0,
         52.0,
         168.35
        ],
        [
         "Curry",
         11.95,
         7.95,
         14,
         3.999999999999999,
         55.999999999999986,
         167.29999999999998
        ],
        [
         "Bhuna",
         9.95,
         8.95,
         16,
         1.0,
         16.0,
         159.2
        ],
        [
         "Saag",
         12.95,
         8.95,
         12,
         4.0,
         48.0,
         155.39999999999998
        ],
        [
         "Vindaloo",
         11.95,
         7.95,
         10,
         3.999999999999999,
         39.99999999999999,
         119.5
        ],
        [
         "Vindaloo",
         8.95,
         7.95,
         11,
         0.9999999999999991,
         10.99999999999999,
         98.44999999999999
        ],
        [
         "Madras",
         8.95,
         7.95,
         11,
         0.9999999999999991,
         10.99999999999999,
         98.44999999999999
        ],
        [
         "Rogon",
         12.95,
         8.95,
         5,
         4.0,
         20.0,
         64.75
        ],
        [
         "Saag",
         9.95,
         8.95,
         5,
         1.0,
         5.0,
         49.75
        ],
        [
         "Mushroom",
         9.95,
         8.95,
         4,
         1.0,
         4.0,
         39.8
        ],
        [
         "Dupiaza",
         12.95,
         8.95,
         3,
         4.0,
         12.0,
         38.849999999999994
        ],
        [
         "Pathia",
         9.95,
         8.95,
         3,
         1.0,
         3.0,
         29.849999999999998
        ],
        [
         "Rogon",
         9.95,
         8.95,
         1,
         1.0,
         1.0,
         9.95
        ],
        [
         "Dupiaza",
         9.95,
         8.95,
         1,
         1.0,
         1.0,
         9.95
        ],
        [
         "Chicken Tikka",
         7.95,
         3.95,
         1,
         4.0,
         4.0,
         7.95
        ],
        [
         "Sheek Kehab",
         5.95,
         4.95,
         1,
         1.0,
         1.0,
         5.95
        ]
       ],
       "datasetInfos": [],
       "dbfsResultPath": null,
       "isJsonSchema": true,
       "metadata": {},
       "overflow": false,
       "plotOptions": {
        "customPlotOptions": {},
        "displayType": "table",
        "pivotAggregation": null,
        "pivotColumns": null,
        "xColumns": null,
        "yColumns": null
       },
       "removedWidgets": [],
       "schema": [
        {
         "metadata": "{}",
         "name": "Item Name",
         "type": "\"string\""
        },
        {
         "metadata": "{}",
         "name": "Product Price",
         "type": "\"double\""
        },
        {
         "metadata": "{}",
         "name": "Product PriceB",
         "type": "\"double\""
        },
        {
         "metadata": "{}",
         "name": "count",
         "type": "\"long\""
        },
        {
         "metadata": "{}",
         "name": "Overpayment Value",
         "type": "\"double\""
        },
        {
         "metadata": "{}",
         "name": "Total_From_Overpayments",
         "type": "\"double\""
        },
        {
         "metadata": "{}",
         "name": "Total",
         "type": "\"double\""
        }
       ],
       "type": "table"
      }
     },
     "output_type": "display_data"
    }
   ],
   "source": [
    "Table_total_per_misspriced_item = revenue_from_overpayment.withColumn('Total', revenue_from_overpayment['count']*revenue_from_overpayment['Product Price']).orderBy('Total', ascending=0)\n",
    "display(Table_total_per_misspriced_item)"
   ]
  },
  {
   "cell_type": "markdown",
   "metadata": {
    "application/vnd.databricks.v1+cell": {
     "cellMetadata": {
      "byteLimit": 2048000,
      "rowLimit": 10000
     },
     "inputWidgets": {},
     "nuid": "e3242140-4ace-4db8-90bb-4157fea1aad8",
     "showTitle": false,
     "title": ""
    }
   },
   "source": [
    "### Correct Total Shown Below: Given that item names appear twice due to having multiple overpayment values\n",
    " - e.g. Chicken Tikka is sold at (4.95 and 7.95)"
   ]
  },
  {
   "cell_type": "code",
   "execution_count": 0,
   "metadata": {
    "application/vnd.databricks.v1+cell": {
     "cellMetadata": {
      "byteLimit": 2048000,
      "rowLimit": 10000
     },
     "inputWidgets": {},
     "nuid": "f1949234-3c32-47a5-8b56-8ae984317f28",
     "showTitle": false,
     "title": ""
    }
   },
   "outputs": [
    {
     "output_type": "stream",
     "name": "stdout",
     "output_type": "stream",
     "text": [
      "+-------------+------------------+\n|    Item Name|             Total|\n+-------------+------------------+\n|Chicken Tikka|            3428.4|\n|        Bhuna|            560.65|\n|        Korma|             517.7|\n|      Dhansak|            501.75|\n|       Madras|385.24999999999994|\n|        Curry|337.34999999999997|\n|     Vindaloo|            217.95|\n|         Saag|205.14999999999998|\n|       Pathia|             198.2|\n|        Rogon|              74.7|\n|      Dupiaza|              48.8|\n|     Mushroom|              39.8|\n|  Sheek Kehab|              5.95|\n+-------------+------------------+\n\n"
     ]
    }
   ],
   "source": [
    "item_total = Table_total_per_misspriced_item.groupBy('Item Name').sum('Total')\n",
    "item_total = item_total.withColumnRenamed(\"sum(Total)\",\"Total\").orderBy('Total', ascending=0)\n",
    "item_total.show()"
   ]
  },
  {
   "cell_type": "code",
   "execution_count": 0,
   "metadata": {
    "application/vnd.databricks.v1+cell": {
     "cellMetadata": {
      "byteLimit": 2048000,
      "rowLimit": 10000
     },
     "inputWidgets": {},
     "nuid": "30d1a35c-b33e-4b67-b4d2-adfd4b8205e2",
     "showTitle": false,
     "title": ""
    }
   },
   "outputs": [],
   "source": [
    "### Top 5: items by revenue "
   ]
  },
  {
   "cell_type": "code",
   "execution_count": 0,
   "metadata": {
    "application/vnd.databricks.v1+cell": {
     "cellMetadata": {
      "byteLimit": 2048000,
      "rowLimit": 10000
     },
     "inputWidgets": {},
     "nuid": "83b4343a-88e0-4623-9e65-cd244a125e24",
     "showTitle": false,
     "title": ""
    }
   },
   "outputs": [
    {
     "output_type": "display_data",
     "data": {
      "text/html": [
       "<div>\n",
       "<style scoped>\n",
       "    .dataframe tbody tr th:only-of-type {\n",
       "        vertical-align: middle;\n",
       "    }\n",
       "\n",
       "    .dataframe tbody tr th {\n",
       "        vertical-align: top;\n",
       "    }\n",
       "\n",
       "    .dataframe thead th {\n",
       "        text-align: right;\n",
       "    }\n",
       "</style>\n",
       "<table border=\"1\" class=\"dataframe\">\n",
       "  <thead>\n",
       "    <tr style=\"text-align: right;\">\n",
       "      <th></th>\n",
       "      <th>Item Name</th>\n",
       "      <th>Total</th>\n",
       "    </tr>\n",
       "  </thead>\n",
       "  <tbody>\n",
       "    <tr>\n",
       "      <th>0</th>\n",
       "      <td>Chicken Tikka</td>\n",
       "      <td>3428.40</td>\n",
       "    </tr>\n",
       "    <tr>\n",
       "      <th>1</th>\n",
       "      <td>Bhuna</td>\n",
       "      <td>560.65</td>\n",
       "    </tr>\n",
       "    <tr>\n",
       "      <th>2</th>\n",
       "      <td>Korma</td>\n",
       "      <td>517.70</td>\n",
       "    </tr>\n",
       "    <tr>\n",
       "      <th>3</th>\n",
       "      <td>Dhansak</td>\n",
       "      <td>501.75</td>\n",
       "    </tr>\n",
       "    <tr>\n",
       "      <th>4</th>\n",
       "      <td>Madras</td>\n",
       "      <td>385.25</td>\n",
       "    </tr>\n",
       "  </tbody>\n",
       "</table>\n",
       "</div>"
      ]
     },
     "metadata": {
      "application/vnd.databricks.v1+output": {
       "addedWidgets": {},
       "arguments": {},
       "data": "<div>\n<style scoped>\n    .dataframe tbody tr th:only-of-type {\n        vertical-align: middle;\n    }\n\n    .dataframe tbody tr th {\n        vertical-align: top;\n    }\n\n    .dataframe thead th {\n        text-align: right;\n    }\n</style>\n<table border=\"1\" class=\"dataframe\">\n  <thead>\n    <tr style=\"text-align: right;\">\n      <th></th>\n      <th>Item Name</th>\n      <th>Total</th>\n    </tr>\n  </thead>\n  <tbody>\n    <tr>\n      <th>0</th>\n      <td>Chicken Tikka</td>\n      <td>3428.40</td>\n    </tr>\n    <tr>\n      <th>1</th>\n      <td>Bhuna</td>\n      <td>560.65</td>\n    </tr>\n    <tr>\n      <th>2</th>\n      <td>Korma</td>\n      <td>517.70</td>\n    </tr>\n    <tr>\n      <th>3</th>\n      <td>Dhansak</td>\n      <td>501.75</td>\n    </tr>\n    <tr>\n      <th>4</th>\n      <td>Madras</td>\n      <td>385.25</td>\n    </tr>\n  </tbody>\n</table>\n</div>",
       "datasetInfos": [],
       "metadata": {},
       "removedWidgets": [],
       "textData": null,
       "type": "htmlSandbox"
      }
     },
     "output_type": "display_data"
    }
   ],
   "source": [
    "item_total = item_total.toPandas()\n",
    "item_total_top_5 = item_total.head()\n",
    "item_total_top_5\n",
    "#import seaborn as sns "
   ]
  },
  {
   "cell_type": "markdown",
   "metadata": {
    "application/vnd.databricks.v1+cell": {
     "cellMetadata": {
      "byteLimit": 2048000,
      "rowLimit": 10000
     },
     "inputWidgets": {},
     "nuid": "b108e743-a0fa-479a-926c-41966fb50f80",
     "showTitle": false,
     "title": ""
    }
   },
   "source": [
    "### Total amount of money that was made by the group of items that were sold above price \n",
    "### (including when sales price = purchase price)\n",
    "### Company A "
   ]
  },
  {
   "cell_type": "code",
   "execution_count": 0,
   "metadata": {
    "application/vnd.databricks.v1+cell": {
     "cellMetadata": {
      "byteLimit": 2048000,
      "rowLimit": 10000
     },
     "inputWidgets": {},
     "nuid": "d0b4e389-b04b-4d8f-9ce6-7fde2b2694e3",
     "showTitle": false,
     "title": ""
    }
   },
   "outputs": [
    {
     "output_type": "stream",
     "name": "stdout",
     "output_type": "stream",
     "text": [
      "Out[65]: Text(0, 0.5, '(£)')"
     ]
    },
    {
     "output_type": "display_data",
     "data": {
      "image/png": "[encoded data removed]"
     },
     "metadata": {
      "application/vnd.databricks.v1+output": {
       "addedWidgets": {},
       "arguments": {},
       "data": "data:image/png;base64,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\n",
       "datasetInfos": [],
       "metadata": {},
       "removedWidgets": [],
       "type": "image"
      }
     },
     "output_type": "display_data"
    }
   ],
   "source": [
    "import matplotlib.pyplot as plt \n",
    "import seaborn as sns \n",
    "\n",
    "sns.barplot(data=item_total_top_5, x = 'Item Name', y = 'Total')\n",
    "plt.title('Money made from the set of missold items')\n",
    "plt.ylabel('(£)')"
   ]
  },
  {
   "cell_type": "markdown",
   "metadata": {
    "application/vnd.databricks.v1+cell": {
     "cellMetadata": {
      "byteLimit": 2048000,
      "rowLimit": 10000
     },
     "inputWidgets": {},
     "nuid": "192f6ea6-b8ff-40a2-9259-4e616ea20e88",
     "showTitle": false,
     "title": ""
    }
   },
   "source": [
    "### Total made from overpayments "
   ]
  },
  {
   "cell_type": "code",
   "execution_count": 0,
   "metadata": {
    "application/vnd.databricks.v1+cell": {
     "cellMetadata": {
      "byteLimit": 2048000,
      "rowLimit": 10000
     },
     "inputWidgets": {},
     "nuid": "c3efce61-8c73-4d92-b88e-224981329b9b",
     "showTitle": false,
     "title": ""
    }
   },
   "outputs": [
    {
     "output_type": "stream",
     "name": "stdout",
     "output_type": "stream",
     "text": [
      "+-------------+--------------------------+\n|    Item Name|Total Made On Overpayments|\n+-------------+--------------------------+\n|Chicken Tikka|                     695.0|\n|        Bhuna|                     140.0|\n|       Madras|        106.99999999999996|\n|        Korma|                     106.0|\n|      Dhansak|                      99.0|\n|        Curry|         74.99999999999997|\n|       Pathia|                      55.0|\n|         Saag|                      53.0|\n|     Vindaloo|        50.999999999999986|\n|        Rogon|                      21.0|\n|      Dupiaza|                      13.0|\n|     Mushroom|                       4.0|\n|  Sheek Kehab|                       1.0|\n+-------------+--------------------------+\n\n"
     ]
    }
   ],
   "source": [
    "overpayment_per_item = Table_total_per_misspriced_item.groupBy('Item Name').sum('Total_From_Overpayments')\n",
    "overpayment_per_item = overpayment_per_item.withColumnRenamed(\"sum(Total_From_Overpayments)\",\"Total Made On Overpayments\").orderBy('Total Made On Overpayments', ascending=0)\n",
    "overpayment_per_item.show()"
   ]
  },
  {
   "cell_type": "markdown",
   "metadata": {
    "application/vnd.databricks.v1+cell": {
     "cellMetadata": {
      "byteLimit": 2048000,
      "rowLimit": 10000
     },
     "inputWidgets": {},
     "nuid": "97070b8f-8c22-455d-9b7a-aca6b45e7200",
     "showTitle": false,
     "title": ""
    }
   },
   "source": [
    "### Converting table into Pandas for plotting "
   ]
  },
  {
   "cell_type": "code",
   "execution_count": 0,
   "metadata": {
    "application/vnd.databricks.v1+cell": {
     "cellMetadata": {
      "byteLimit": 2048000,
      "rowLimit": 10000
     },
     "inputWidgets": {},
     "nuid": "6cde83d4-2c0a-476e-810d-e22e44b5402a",
     "showTitle": false,
     "title": ""
    }
   },
   "outputs": [],
   "source": [
    "overpayment_per_item = overpayment_per_item.toPandas()\n",
    "overpayment_per_item_top_5 = overpayment_per_item.head()"
   ]
  },
  {
   "cell_type": "markdown",
   "metadata": {
    "application/vnd.databricks.v1+cell": {
     "cellMetadata": {
      "byteLimit": 2048000,
      "rowLimit": 10000
     },
     "inputWidgets": {},
     "nuid": "07d0a444-bbd5-4bf7-b071-8a9479aa4508",
     "showTitle": false,
     "title": ""
    }
   },
   "source": [
    "### Plot of top 5 items by how much in total customers spent over the sales price (Company A)"
   ]
  },
  {
   "cell_type": "code",
   "execution_count": 0,
   "metadata": {
    "application/vnd.databricks.v1+cell": {
     "cellMetadata": {
      "byteLimit": 2048000,
      "rowLimit": 10000
     },
     "inputWidgets": {},
     "nuid": "0e38204d-48d3-44a0-b24f-f228549a089f",
     "showTitle": false,
     "title": ""
    }
   },
   "outputs": [
    {
     "output_type": "stream",
     "name": "stdout",
     "output_type": "stream",
     "text": [
      "Out[68]: Text(0, 0.5, '(£)')"
     ]
    },
    {
     "output_type": "display_data",
     "data": {
      "image/png": "[encoded data removed]"
     },
     "metadata": {
      "application/vnd.databricks.v1+output": {
       "addedWidgets": {},
       "arguments": {},
       "data": "data:image/png;base64,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\n",
       "datasetInfos": [],
       "metadata": {},
       "removedWidgets": [],
       "type": "image"
      }
     },
     "output_type": "display_data"
    }
   ],
   "source": [
    "sns.barplot(data=overpayment_per_item_top_5, x = 'Item Name', y = 'Total Made On Overpayments')\n",
    "plt.title('Top 5 items by money made from overpayments')\n",
    "plt.ylabel('(£)')"
   ]
  },
  {
   "cell_type": "markdown",
   "metadata": {
    "application/vnd.databricks.v1+cell": {
     "cellMetadata": {
      "byteLimit": 2048000,
      "rowLimit": 10000
     },
     "inputWidgets": {},
     "nuid": "30298f20-8480-4f0d-976d-4ec1b7740df6",
     "showTitle": false,
     "title": ""
    }
   },
   "source": [
    "### Money made from customers paying more than the product price (Company A)"
   ]
  },
  {
   "cell_type": "code",
   "execution_count": 0,
   "metadata": {
    "application/vnd.databricks.v1+cell": {
     "cellMetadata": {
      "byteLimit": 2048000,
      "rowLimit": 10000
     },
     "inputWidgets": {},
     "nuid": "6ea4a37a-1c39-4516-9714-ad1543e6dc71",
     "showTitle": false,
     "title": ""
    }
   },
   "outputs": [
    {
     "output_type": "stream",
     "name": "stdout",
     "output_type": "stream",
     "text": [
      "Out[69]: 1420.0"
     ]
    }
   ],
   "source": [
    "overpayment_per_item['Total Made On Overpayments'].sum() # £1420 pounds made from overpayments "
   ]
  },
  {
   "cell_type": "markdown",
   "metadata": {
    "application/vnd.databricks.v1+cell": {
     "cellMetadata": {
      "byteLimit": 2048000,
      "rowLimit": 10000
     },
     "inputWidgets": {},
     "nuid": "f73a7b9f-34e3-417c-bfb9-0f75729e5a76",
     "showTitle": false,
     "title": ""
    }
   },
   "source": [
    "## Looking at all items (company A) \n",
    "- No longer just looking at just miss-priced values "
   ]
  },
  {
   "cell_type": "code",
   "execution_count": 0,
   "metadata": {
    "application/vnd.databricks.v1+cell": {
     "cellMetadata": {
      "byteLimit": 2048000,
      "rowLimit": 10000
     },
     "inputWidgets": {},
     "nuid": "a9af8245-9f52-471c-b02a-4481050b4d27",
     "showTitle": false,
     "title": ""
    }
   },
   "outputs": [
    {
     "output_type": "stream",
     "name": "stdout",
     "output_type": "stream",
     "text": [
      "+------------+----------------+--------------------+--------+-------------+--------------+\n|Order Number|      Order Date|           Item Name|Quantity|Product Price|Total products|\n+------------+----------------+--------------------+--------+-------------+--------------+\n|       16115|03/08/2019 20:01|       Plain Papadum|       1|          0.8|             7|\n|       16117|03/08/2019 20:17|       Mushroom Rice|       1|         3.95|             7|\n|       16116|03/08/2019 20:09|          Aloo Chaat|       1|         4.95|             5|\n|       16115|03/08/2019 20:01|      Chicken Pakora|       1|         5.95|             7|\n|       16118|03/08/2019 20:25|       Mushroom Rice|       1|         3.95|             6|\n|       16118|03/08/2019 20:25|       Mango Chutney|       1|          0.5|             6|\n|       16118|03/08/2019 20:25|         Garlic Naan|       1|         2.95|             6|\n|       16116|03/08/2019 20:09|      Chicken Pakora|       1|         5.95|             5|\n|       16117|03/08/2019 20:17|          Lamb Tikka|       1|         4.95|             7|\n|       16118|03/08/2019 20:25|       Plain Papadum|       2|          0.8|             6|\n|       16118|03/08/2019 20:25|    King Prawn Balti|       1|        12.95|             6|\n|       16116|03/08/2019 20:09|Chicken Chilli Ga...|       1|         9.95|             5|\n|       16116|03/08/2019 20:09|          Keema Naan|       1|         2.95|             5|\n|       16117|03/08/2019 20:17|             Chapati|       1|         1.95|             7|\n|       16117|03/08/2019 20:17|         Saag Paneer|       1|         5.95|             7|\n|       16118|03/08/2019 20:25| Paneer Tikka Masala|       1|         8.95|             6|\n|       16117|03/08/2019 20:17|Tandoori Chicken ...|       1|         4.95|             7|\n|       16116|03/08/2019 20:09|        Lamb Biryani|       1|         9.95|             5|\n|       16115|03/08/2019 20:01|       Mango Chutney|       1|          0.5|             7|\n|       16117|03/08/2019 20:17|     Vindaloo - Lamb|       1|         7.95|             7|\n+------------+----------------+--------------------+--------+-------------+--------------+\nonly showing top 20 rows\n\n"
     ]
    }
   ],
   "source": [
    "All_items_table = restaurant_1_orders_no_duplicates\n",
    "All_items_table.show()"
   ]
  },
  {
   "cell_type": "markdown",
   "metadata": {
    "application/vnd.databricks.v1+cell": {
     "cellMetadata": {
      "byteLimit": 2048000,
      "rowLimit": 10000
     },
     "inputWidgets": {},
     "nuid": "46131645-8033-4f05-83ed-de205640cfcb",
     "showTitle": false,
     "title": ""
    }
   },
   "source": [
    "### Shows items by the number of orders (Company A)\n",
    "####Top 3\n",
    "- Pilau Rice : 4721 \n",
    "- Plain Naan : 3752 \n",
    "- Plain Papadum : 3596"
   ]
  },
  {
   "cell_type": "code",
   "execution_count": 0,
   "metadata": {
    "application/vnd.databricks.v1+cell": {
     "cellMetadata": {
      "byteLimit": 2048000,
      "rowLimit": 10000
     },
     "inputWidgets": {},
     "nuid": "e64ad82d-4a86-44ef-8e74-3b95c61a2f79",
     "showTitle": false,
     "title": ""
    }
   },
   "outputs": [
    {
     "output_type": "stream",
     "name": "stdout",
     "output_type": "stream",
     "text": [
      "+--------------------+-------------+-----+\n|           Item Name|Product Price|count|\n+--------------------+-------------+-----+\n|          Pilau Rice|         2.95| 4721|\n|          Plain Naan|          2.6| 3752|\n|       Plain Papadum|          0.8| 3596|\n|         Garlic Naan|         2.95| 2628|\n|        Onion Bhajee|         3.95| 2401|\n|          Plain Rice|         2.95| 2369|\n|Chicken Tikka Masala|         8.95| 2133|\n|       Mango Chutney|          0.5| 2069|\n|         Bombay Aloo|         5.95| 1752|\n|       Peshwari Naan|         2.95| 1535|\n|          Mint Sauce|          0.5| 1463|\n|       Mushroom Rice|         3.95| 1452|\n|          Keema Naan|         2.95| 1362|\n|           Saag Aloo|         5.95| 1194|\n|         Meat Samosa|         3.95| 1192|\n|             Chapati|         1.95| 1170|\n|               Korma|         8.95| 1131|\n|       Onion Chutney|          0.5| 1032|\n|      Butter Chicken|         9.95|  980|\n|     Korma - Chicken|         8.95|  943|\n+--------------------+-------------+-----+\nonly showing top 20 rows\n\n"
     ]
    }
   ],
   "source": [
    "Count_All = All_items_table.groupBy('Item Name','Product Price').count().orderBy('count', ascending=0)\n",
    "Count_All.show()"
   ]
  },
  {
   "cell_type": "markdown",
   "metadata": {
    "application/vnd.databricks.v1+cell": {
     "cellMetadata": {
      "byteLimit": 2048000,
      "rowLimit": 10000
     },
     "inputWidgets": {},
     "nuid": "e8061f83-1134-4f50-9057-a863562a3ee1",
     "showTitle": false,
     "title": ""
    }
   },
   "source": [
    "### Shows items by total revenue generated (Company A)\n",
    "####Top 3\n",
    "- Chicken Tikka Masala : 19090\n",
    "- Pilau Rice : 13926 \n",
    "- Korma : 10640\n"
   ]
  },
  {
   "cell_type": "code",
   "execution_count": 0,
   "metadata": {
    "application/vnd.databricks.v1+cell": {
     "cellMetadata": {
      "byteLimit": 2048000,
      "rowLimit": 10000
     },
     "inputWidgets": {},
     "nuid": "d95c2950-73c4-42a8-9d55-fc0ef5c86b76",
     "showTitle": false,
     "title": ""
    }
   },
   "outputs": [
    {
     "output_type": "stream",
     "name": "stdout",
     "output_type": "stream",
     "text": [
      "+--------------------+-----------------+\n|           Item Name|      Total_Price|\n+--------------------+-----------------+\n|Chicken Tikka Masala|         19090.35|\n|          Pilau Rice|         13926.95|\n|               Korma|         10640.15|\n|         Bombay Aloo|          10424.4|\n|          Plain Naan|           9755.2|\n|      Butter Chicken|           9751.0|\n|        Onion Bhajee|          9483.95|\n|     Korma - Chicken|8439.849999999999|\n|Tandoori Mixed Grill|7946.749999999999|\n|         Garlic Naan|           7752.6|\n|Chicken Tikka (Main)|7204.749999999999|\n|           Saag Aloo|           7104.3|\n|          Plain Rice|          6988.55|\n|     Chicken Biryani|          6477.45|\n|              Madras|6403.400000000001|\n|       Mushroom Rice|5735.400000000001|\n|        Lamb Biryani|          5124.25|\n|Chicken Tikka Bir...|5080.799999999999|\n|         Meat Samosa|4708.400000000001|\n|       Peshwari Naan|          4528.25|\n+--------------------+-----------------+\nonly showing top 20 rows\n\n"
     ]
    }
   ],
   "source": [
    "total_all = Count_All.withColumn('Total_Price', Count_All['count']*Count_All['Product Price']).orderBy('Total_Price',ascending=0)\n",
    "total_all = total_all.groupBy('Item Name').sum('Total_Price')\n",
    "total_all = total_all.withColumnRenamed(\"sum(Total_Price)\",\"Total_Price\").orderBy('Total_Price', ascending=0)\n",
    "total_all.show()"
   ]
  },
  {
   "cell_type": "markdown",
   "metadata": {
    "application/vnd.databricks.v1+cell": {
     "cellMetadata": {},
     "inputWidgets": {},
     "nuid": "e075fbeb-f9df-4eff-b7a0-25355735092a",
     "showTitle": false,
     "title": ""
    }
   },
   "source": [
    "### Total revenue from of company A: 394,803"
   ]
  },
  {
   "cell_type": "code",
   "execution_count": 0,
   "metadata": {
    "application/vnd.databricks.v1+cell": {
     "cellMetadata": {
      "byteLimit": 2048000,
      "rowLimit": 10000
     },
     "inputWidgets": {},
     "nuid": "5c702225-2617-4868-8402-5424283ff85d",
     "showTitle": false,
     "title": ""
    }
   },
   "outputs": [
    {
     "output_type": "stream",
     "name": "stdout",
     "output_type": "stream",
     "text": [
      "Out[107]: 394803.55000000005"
     ]
    }
   ],
   "source": [
    "total_rev = total_all.toPandas()\n",
    "total_rev = total_rev['Total_Price'].sum()\n",
    "total_rev"
   ]
  },
  {
   "cell_type": "markdown",
   "metadata": {
    "application/vnd.databricks.v1+cell": {
     "cellMetadata": {
      "byteLimit": 2048000,
      "rowLimit": 10000
     },
     "inputWidgets": {},
     "nuid": "ea7fd5f6-5f90-4e88-98e2-2d7e4d9a2a3e",
     "showTitle": false,
     "title": ""
    }
   },
   "source": [
    "# Restaurant 2 Data"
   ]
  },
  {
   "cell_type": "code",
   "execution_count": 0,
   "metadata": {
    "application/vnd.databricks.v1+cell": {
     "cellMetadata": {
      "byteLimit": 2048000,
      "rowLimit": 10000
     },
     "inputWidgets": {},
     "nuid": "d9314ccd-5353-4f76-91d9-cca20dc5090e",
     "showTitle": false,
     "title": ""
    }
   },
   "outputs": [],
   "source": [
    "restaurant_2_orders = sqlContext.read.load('/FileStore/tables/restaurant_2_orders.csv',format='csv',header='True',inferSchema='True')\n",
    "restaurant_2_products = sqlContext.read.load('/FileStore/tables/restaurant_2_products_price.csv',format='csv',header='True',inferSchema='True')"
   ]
  },
  {
   "cell_type": "code",
   "execution_count": 0,
   "metadata": {
    "application/vnd.databricks.v1+cell": {
     "cellMetadata": {
      "byteLimit": 2048000,
      "rowLimit": 10000
     },
     "inputWidgets": {},
     "nuid": "b214e1d5-2f37-4940-974b-d9fd98f6444b",
     "showTitle": false,
     "title": ""
    }
   },
   "outputs": [
    {
     "output_type": "display_data",
     "data": {
      "text/html": [
       "<style scoped>\n",
       "  .table-result-container {\n",
       "    max-height: 300px;\n",
       "    overflow: auto;\n",
       "  }\n",
       "  table, th, td {\n",
       "    border: 1px solid black;\n",
       "    border-collapse: collapse;\n",
       "  }\n",
       "  th, td {\n",
       "    padding: 5px;\n",
       "  }\n",
       "  th {\n",
       "    text-align: left;\n",
       "  }\n",
       "</style><div class='table-result-container'><table class='table-result'><thead style='background-color: white'><tr><th>summary</th><th>Order ID</th><th>Order Date</th><th>Item Name</th><th>Quantity</th><th>Product Price</th><th>Total products</th></tr></thead><tbody><tr><td>count</td><td>119183</td><td>119183</td><td>119183</td><td>119183</td><td>119183</td><td>119183</td></tr><tr><td>mean</td><td>15185.997977899533</td><td>null</td><td>null</td><td>1.2488693857345428</td><td>5.108173145502638</td><td>7.246427762348657</td></tr><tr><td>stddev</td><td>6088.427753077414</td><td>null</td><td>null</td><td>0.7022026750515845</td><td>3.2077047387844217</td><td>2.9468085382306786</td></tr><tr><td>min</td><td>2096</td><td>01/01/2017 11:38</td><td>Achar Chicken</td><td>1</td><td>0.5</td><td>1</td></tr><tr><td>max</td><td>25583</td><td>31/12/2018 21:07</td><td>Vindaloo Sauce</td><td>20</td><td>17.95</td><td>29</td></tr></tbody></table></div>"
      ]
     },
     "metadata": {
      "application/vnd.databricks.v1+output": {
       "addedWidgets": {},
       "aggData": [],
       "aggError": "",
       "aggOverflow": false,
       "aggSchema": [],
       "aggSeriesLimitReached": false,
       "aggType": "",
       "arguments": {},
       "columnCustomDisplayInfos": {},
       "data": [
        [
         "count",
         "119183",
         "119183",
         "119183",
         "119183",
         "119183",
         "119183"
        ],
        [
         "mean",
         "15185.997977899533",
         null,
         null,
         "1.2488693857345428",
         "5.108173145502638",
         "7.246427762348657"
        ],
        [
         "stddev",
         "6088.427753077414",
         null,
         null,
         "0.7022026750515845",
         "3.2077047387844217",
         "2.9468085382306786"
        ],
        [
         "min",
         "2096",
         "01/01/2017 11:38",
         "Achar Chicken",
         "1",
         "0.5",
         "1"
        ],
        [
         "max",
         "25583",
         "31/12/2018 21:07",
         "Vindaloo Sauce",
         "20",
         "17.95",
         "29"
        ]
       ],
       "datasetInfos": [],
       "dbfsResultPath": null,
       "isJsonSchema": true,
       "metadata": {},
       "overflow": false,
       "plotOptions": {
        "customPlotOptions": {},
        "displayType": "table",
        "pivotAggregation": null,
        "pivotColumns": null,
        "xColumns": null,
        "yColumns": null
       },
       "removedWidgets": [],
       "schema": [
        {
         "metadata": "{}",
         "name": "summary",
         "type": "\"string\""
        },
        {
         "metadata": "{}",
         "name": "Order ID",
         "type": "\"string\""
        },
        {
         "metadata": "{}",
         "name": "Order Date",
         "type": "\"string\""
        },
        {
         "metadata": "{}",
         "name": "Item Name",
         "type": "\"string\""
        },
        {
         "metadata": "{}",
         "name": "Quantity",
         "type": "\"string\""
        },
        {
         "metadata": "{}",
         "name": "Product Price",
         "type": "\"string\""
        },
        {
         "metadata": "{}",
         "name": "Total products",
         "type": "\"string\""
        }
       ],
       "type": "table"
      }
     },
     "output_type": "display_data"
    }
   ],
   "source": [
    "#restaurant_2_orders.show()\n",
    "display(restaurant_2_orders.describe()) # 119,183 orders before duplicates are removed "
   ]
  },
  {
   "cell_type": "code",
   "execution_count": 0,
   "metadata": {
    "application/vnd.databricks.v1+cell": {
     "cellMetadata": {
      "byteLimit": 2048000,
      "rowLimit": 10000
     },
     "inputWidgets": {},
     "nuid": "51b002ed-1543-4f6d-ae3e-23e3f5d25bf5",
     "showTitle": false,
     "title": ""
    }
   },
   "outputs": [
    {
     "output_type": "display_data",
     "data": {
      "text/html": [
       "<style scoped>\n",
       "  .table-result-container {\n",
       "    max-height: 300px;\n",
       "    overflow: auto;\n",
       "  }\n",
       "  table, th, td {\n",
       "    border: 1px solid black;\n",
       "    border-collapse: collapse;\n",
       "  }\n",
       "  th, td {\n",
       "    padding: 5px;\n",
       "  }\n",
       "  th {\n",
       "    text-align: left;\n",
       "  }\n",
       "</style><div class='table-result-container'><table class='table-result'><thead style='background-color: white'><tr><th>summary</th><th>Item Name</th><th>Product Price</th></tr></thead><tbody><tr><td>count</td><td>302</td><td>302</td></tr><tr><td>mean</td><td>null</td><td>8.097847682119209</td></tr><tr><td>stddev</td><td>null</td><td>3.126654300196108</td></tr><tr><td>min</td><td>Achar Chicken</td><td>0.5</td></tr><tr><td>max</td><td>Vindaloo Sauce</td><td>17.95</td></tr></tbody></table></div>"
      ]
     },
     "metadata": {
      "application/vnd.databricks.v1+output": {
       "addedWidgets": {},
       "aggData": [],
       "aggError": "",
       "aggOverflow": false,
       "aggSchema": [],
       "aggSeriesLimitReached": false,
       "aggType": "",
       "arguments": {},
       "columnCustomDisplayInfos": {},
       "data": [
        [
         "count",
         "302",
         "302"
        ],
        [
         "mean",
         null,
         "8.097847682119209"
        ],
        [
         "stddev",
         null,
         "3.126654300196108"
        ],
        [
         "min",
         "Achar Chicken",
         "0.5"
        ],
        [
         "max",
         "Vindaloo Sauce",
         "17.95"
        ]
       ],
       "datasetInfos": [],
       "dbfsResultPath": null,
       "isJsonSchema": true,
       "metadata": {},
       "overflow": false,
       "plotOptions": {
        "customPlotOptions": {},
        "displayType": "table",
        "pivotAggregation": null,
        "pivotColumns": null,
        "xColumns": null,
        "yColumns": null
       },
       "removedWidgets": [],
       "schema": [
        {
         "metadata": "{}",
         "name": "summary",
         "type": "\"string\""
        },
        {
         "metadata": "{}",
         "name": "Item Name",
         "type": "\"string\""
        },
        {
         "metadata": "{}",
         "name": "Product Price",
         "type": "\"string\""
        }
       ],
       "type": "table"
      }
     },
     "output_type": "display_data"
    }
   ],
   "source": [
    "#restaurant_2_products.show()\n",
    "display(restaurant_2_products.describe()) # 302 items on the menu "
   ]
  },
  {
   "cell_type": "markdown",
   "metadata": {
    "application/vnd.databricks.v1+cell": {
     "cellMetadata": {
      "byteLimit": 2048000,
      "rowLimit": 10000
     },
     "inputWidgets": {},
     "nuid": "88550013-2585-4739-a457-f731abd71e25",
     "showTitle": false,
     "title": ""
    }
   },
   "source": [
    "#### Dropping duplicates from restaurant 2 table"
   ]
  },
  {
   "cell_type": "code",
   "execution_count": 0,
   "metadata": {
    "application/vnd.databricks.v1+cell": {
     "cellMetadata": {
      "byteLimit": 2048000,
      "rowLimit": 10000
     },
     "inputWidgets": {},
     "nuid": "87cbbd00-e328-4ada-8937-eb3249152c19",
     "showTitle": false,
     "title": ""
    }
   },
   "outputs": [
    {
     "output_type": "display_data",
     "data": {
      "text/html": [
       "<style scoped>\n",
       "  .table-result-container {\n",
       "    max-height: 300px;\n",
       "    overflow: auto;\n",
       "  }\n",
       "  table, th, td {\n",
       "    border: 1px solid black;\n",
       "    border-collapse: collapse;\n",
       "  }\n",
       "  th, td {\n",
       "    padding: 5px;\n",
       "  }\n",
       "  th {\n",
       "    text-align: left;\n",
       "  }\n",
       "</style><div class='table-result-container'><table class='table-result'><thead style='background-color: white'><tr><th>summary</th><th>Item Name</th><th>Product Price</th></tr></thead><tbody><tr><td>count</td><td>302</td><td>302</td></tr><tr><td>mean</td><td>null</td><td>8.097847682119205</td></tr><tr><td>stddev</td><td>null</td><td>3.126654300196108</td></tr><tr><td>min</td><td>Achar Chicken</td><td>0.5</td></tr><tr><td>max</td><td>Vindaloo Sauce</td><td>17.95</td></tr></tbody></table></div>"
      ]
     },
     "metadata": {
      "application/vnd.databricks.v1+output": {
       "addedWidgets": {},
       "aggData": [],
       "aggError": "",
       "aggOverflow": false,
       "aggSchema": [],
       "aggSeriesLimitReached": false,
       "aggType": "",
       "arguments": {},
       "columnCustomDisplayInfos": {},
       "data": [
        [
         "count",
         "302",
         "302"
        ],
        [
         "mean",
         null,
         "8.097847682119205"
        ],
        [
         "stddev",
         null,
         "3.126654300196108"
        ],
        [
         "min",
         "Achar Chicken",
         "0.5"
        ],
        [
         "max",
         "Vindaloo Sauce",
         "17.95"
        ]
       ],
       "datasetInfos": [],
       "dbfsResultPath": null,
       "isJsonSchema": true,
       "metadata": {},
       "overflow": false,
       "plotOptions": {
        "customPlotOptions": {},
        "displayType": "table",
        "pivotAggregation": null,
        "pivotColumns": null,
        "xColumns": null,
        "yColumns": null
       },
       "removedWidgets": [],
       "schema": [
        {
         "metadata": "{}",
         "name": "summary",
         "type": "\"string\""
        },
        {
         "metadata": "{}",
         "name": "Item Name",
         "type": "\"string\""
        },
        {
         "metadata": "{}",
         "name": "Product Price",
         "type": "\"string\""
        }
       ],
       "type": "table"
      }
     },
     "output_type": "display_data"
    }
   ],
   "source": [
    "restaurant_2_products_no_duplicates = restaurant_2_products.distinct()\n",
    "display(restaurant_2_products_no_duplicates.describe())\n",
    "# no duplicates exxist in the products table "
   ]
  },
  {
   "cell_type": "code",
   "execution_count": 0,
   "metadata": {
    "application/vnd.databricks.v1+cell": {
     "cellMetadata": {
      "byteLimit": 2048000,
      "rowLimit": 10000
     },
     "inputWidgets": {},
     "nuid": "d943ec29-9fe0-4534-953b-8ed645580d11",
     "showTitle": false,
     "title": ""
    }
   },
   "outputs": [
    {
     "output_type": "display_data",
     "data": {
      "text/html": [
       "<style scoped>\n",
       "  .table-result-container {\n",
       "    max-height: 300px;\n",
       "    overflow: auto;\n",
       "  }\n",
       "  table, th, td {\n",
       "    border: 1px solid black;\n",
       "    border-collapse: collapse;\n",
       "  }\n",
       "  th, td {\n",
       "    padding: 5px;\n",
       "  }\n",
       "  th {\n",
       "    text-align: left;\n",
       "  }\n",
       "</style><div class='table-result-container'><table class='table-result'><thead style='background-color: white'><tr><th>summary</th><th>Order ID</th><th>Order Date</th><th>Item Name</th><th>Quantity</th><th>Product Price</th><th>Total products</th></tr></thead><tbody><tr><td>count</td><td>119005</td><td>119005</td><td>119005</td><td>119005</td><td>119005</td><td>119005</td></tr><tr><td>mean</td><td>15192.056720305869</td><td>null</td><td>null</td><td>1.2491828074450653</td><td>5.103637242134048</td><td>7.246443426746775</td></tr><tr><td>stddev</td><td>6086.892557410138</td><td>null</td><td>null</td><td>0.7026286674826605</td><td>3.2073747073778027</td><td>2.946876384815573</td></tr><tr><td>min</td><td>2096</td><td>01/01/2017 11:38</td><td>Achar Chicken</td><td>1</td><td>0.5</td><td>1</td></tr><tr><td>max</td><td>25583</td><td>31/12/2018 21:07</td><td>Vindaloo Sauce</td><td>20</td><td>17.95</td><td>29</td></tr></tbody></table></div>"
      ]
     },
     "metadata": {
      "application/vnd.databricks.v1+output": {
       "addedWidgets": {},
       "aggData": [],
       "aggError": "",
       "aggOverflow": false,
       "aggSchema": [],
       "aggSeriesLimitReached": false,
       "aggType": "",
       "arguments": {},
       "columnCustomDisplayInfos": {},
       "data": [
        [
         "count",
         "119005",
         "119005",
         "119005",
         "119005",
         "119005",
         "119005"
        ],
        [
         "mean",
         "15192.056720305869",
         null,
         null,
         "1.2491828074450653",
         "5.103637242134048",
         "7.246443426746775"
        ],
        [
         "stddev",
         "6086.892557410138",
         null,
         null,
         "0.7026286674826605",
         "3.2073747073778027",
         "2.946876384815573"
        ],
        [
         "min",
         "2096",
         "01/01/2017 11:38",
         "Achar Chicken",
         "1",
         "0.5",
         "1"
        ],
        [
         "max",
         "25583",
         "31/12/2018 21:07",
         "Vindaloo Sauce",
         "20",
         "17.95",
         "29"
        ]
       ],
       "datasetInfos": [],
       "dbfsResultPath": null,
       "isJsonSchema": true,
       "metadata": {},
       "overflow": false,
       "plotOptions": {
        "customPlotOptions": {},
        "displayType": "table",
        "pivotAggregation": null,
        "pivotColumns": null,
        "xColumns": null,
        "yColumns": null
       },
       "removedWidgets": [],
       "schema": [
        {
         "metadata": "{}",
         "name": "summary",
         "type": "\"string\""
        },
        {
         "metadata": "{}",
         "name": "Order ID",
         "type": "\"string\""
        },
        {
         "metadata": "{}",
         "name": "Order Date",
         "type": "\"string\""
        },
        {
         "metadata": "{}",
         "name": "Item Name",
         "type": "\"string\""
        },
        {
         "metadata": "{}",
         "name": "Quantity",
         "type": "\"string\""
        },
        {
         "metadata": "{}",
         "name": "Product Price",
         "type": "\"string\""
        },
        {
         "metadata": "{}",
         "name": "Total products",
         "type": "\"string\""
        }
       ],
       "type": "table"
      }
     },
     "output_type": "display_data"
    }
   ],
   "source": [
    "restaurant_2_orders_no_duplicates = restaurant_2_orders.distinct() \n",
    "display(restaurant_2_orders_no_duplicates.describe())\n",
    "# There are 119,183-119005 = 178 duplicate rows in the restaurant 2 orders table "
   ]
  },
  {
   "cell_type": "markdown",
   "metadata": {
    "application/vnd.databricks.v1+cell": {
     "cellMetadata": {
      "byteLimit": 2048000,
      "rowLimit": 10000
     },
     "inputWidgets": {},
     "nuid": "0d08330a-99af-452e-afd5-e04365689c3d",
     "showTitle": false,
     "title": ""
    }
   },
   "source": [
    "### price_check_2 gives all items from restaurant 2 where the sales vs product price do not match!"
   ]
  },
  {
   "cell_type": "code",
   "execution_count": 0,
   "metadata": {
    "application/vnd.databricks.v1+cell": {
     "cellMetadata": {
      "byteLimit": 2048000,
      "rowLimit": 10000
     },
     "inputWidgets": {},
     "nuid": "746c7618-32d1-4628-b112-0de2a93009e0",
     "showTitle": false,
     "title": ""
    }
   },
   "outputs": [
    {
     "output_type": "stream",
     "name": "stdout",
     "output_type": "stream",
     "text": [
      "+---------+--------+----------------+--------+-------------+--------------+--------------+\n|Item Name|Order ID|      Order Date|Quantity|Product Price|Total products|Product PriceB|\n+---------+--------+----------------+--------+-------------+--------------+--------------+\n| Vindaloo|   15669|04/04/2018 19:10|       1|         8.95|             3|          7.95|\n|   Madras|   15639|02/04/2018 18:27|       1|         8.95|             8|          7.95|\n|   Madras|   15638|02/04/2018 18:19|       1|         8.95|             7|          7.95|\n|    Curry|   15627|02/04/2018 13:54|       1|         8.95|             3|          7.95|\n|   Madras|   15611|01/04/2018 16:44|       1|         8.95|            10|          7.95|\n|    Curry|   15593|31/03/2018 19:04|       1|         8.95|             6|          7.95|\n|    Curry|   15538|29/03/2018 18:49|       1|         8.95|             6|          7.95|\n|    Curry|   15512|27/03/2018 21:11|       1|         8.95|             5|          7.95|\n|   Madras|   15503|27/03/2018 17:51|       1|         8.95|             6|          7.95|\n|   Madras|   15474|24/03/2018 19:48|       1|         8.95|             5|          7.95|\n|   Madras|   15467|24/03/2018 18:59|       1|         8.95|             8|          7.95|\n|    Curry|   15428|23/03/2018 18:31|       1|         8.95|            12|          7.95|\n|    Curry|   15420|23/03/2018 17:11|       1|         8.95|             6|          7.95|\n|    Curry|   15409|22/03/2018 18:38|       1|         8.95|             3|          7.95|\n|    Curry|   15408|22/03/2018 18:36|       1|         8.95|             3|          7.95|\n|    Curry|   15407|22/03/2018 18:20|       1|         8.95|             3|          7.95|\n|    Curry|   15393|20/03/2018 19:31|       1|         8.95|             8|          7.95|\n|    Curry|   15369|18/03/2018 16:56|       1|         8.95|            11|          7.95|\n| Vindaloo|   15338|17/03/2018 18:00|       1|         8.95|             7|          7.95|\n| Vindaloo|   15336|17/03/2018 17:56|       1|         8.95|             6|          7.95|\n+---------+--------+----------------+--------+-------------+--------------+--------------+\nonly showing top 20 rows\n\n"
     ]
    }
   ],
   "source": [
    "restaurant_2_products = restaurant_2_products.withColumnRenamed('Product Price', 'Product PriceB') \n",
    "\n",
    "left_join_2 = restaurant_2_orders.join(restaurant_2_products, \"Item Name\", \"left\")\n",
    "#y.show()\n",
    "\n",
    "price_check_2 = left_join_2.filter(left_join_2['Product Price'] != left_join_2['Product PriceB'])\n",
    "price_check_2.show()"
   ]
  },
  {
   "cell_type": "markdown",
   "metadata": {
    "application/vnd.databricks.v1+cell": {
     "cellMetadata": {
      "byteLimit": 2048000,
      "rowLimit": 10000
     },
     "inputWidgets": {},
     "nuid": "5f9c2283-7019-483a-be58-a179ca6816e3",
     "showTitle": false,
     "title": ""
    }
   },
   "source": [
    "### counts number of times items have been miss-priced "
   ]
  },
  {
   "cell_type": "code",
   "execution_count": 0,
   "metadata": {
    "application/vnd.databricks.v1+cell": {
     "cellMetadata": {
      "byteLimit": 2048000,
      "rowLimit": 10000
     },
     "inputWidgets": {},
     "nuid": "eade9719-20ad-475c-8bba-e1eaf2a5a840",
     "showTitle": false,
     "title": ""
    }
   },
   "outputs": [
    {
     "output_type": "stream",
     "name": "stdout",
     "output_type": "stream",
     "text": [
      "+---------+-------------+--------------+-----+\n|Item Name|Product Price|Product PriceB|count|\n+---------+-------------+--------------+-----+\n|   Madras|         8.95|          7.95|  163|\n|    Curry|         8.95|          7.95|  154|\n| Vindaloo|         8.95|          7.95|  109|\n|    Curry|        11.95|          7.95|   44|\n|  Dhansak|         9.95|          8.95|   37|\n|   Madras|        11.95|          7.95|   34|\n|    Korma|         9.95|          8.95|   21|\n|    Bhuna|        12.95|          8.95|   19|\n|   Pathia|        12.95|          8.95|   17|\n|    Korma|        12.95|          8.95|   13|\n| Vindaloo|        11.95|          7.95|    9|\n|    Bhuna|         9.95|          8.95|    8|\n|  Dupiaza|        12.95|          8.95|    7|\n|   Pathia|         9.95|          8.95|    7|\n|  Dhansak|        12.95|          8.95|    5|\n|     Saag|        12.95|          8.95|    4|\n|    Rogon|         9.95|          8.95|    3|\n|   Malaya|         9.95|          8.95|    2|\n|    Kurma|         9.95|          8.95|    2|\n|     Saag|         9.95|          8.95|    2|\n+---------+-------------+--------------+-----+\nonly showing top 20 rows\n\n"
     ]
    }
   ],
   "source": [
    "count_missmatch_2 = price_check_2.groupBy('Item Name','Product Price', 'Product PriceB').count().orderBy('count', ascending=0)  \n",
    "count_missmatch_2.show() "
   ]
  },
  {
   "cell_type": "markdown",
   "metadata": {
    "application/vnd.databricks.v1+cell": {
     "cellMetadata": {
      "byteLimit": 2048000,
      "rowLimit": 10000
     },
     "inputWidgets": {},
     "nuid": "658fca61-5d3c-4278-9114-06359462a73f",
     "showTitle": false,
     "title": ""
    }
   },
   "source": [
    "### Items by their overpayment value along with count of customers paying it"
   ]
  },
  {
   "cell_type": "code",
   "execution_count": 0,
   "metadata": {
    "application/vnd.databricks.v1+cell": {
     "cellMetadata": {
      "byteLimit": 2048000,
      "rowLimit": 10000
     },
     "inputWidgets": {},
     "nuid": "35e60d3c-6de7-4ef3-93b6-caccb859cb6b",
     "showTitle": false,
     "title": ""
    }
   },
   "outputs": [
    {
     "output_type": "display_data",
     "data": {
      "text/html": [
       "<style scoped>\n",
       "  .table-result-container {\n",
       "    max-height: 300px;\n",
       "    overflow: auto;\n",
       "  }\n",
       "  table, th, td {\n",
       "    border: 1px solid black;\n",
       "    border-collapse: collapse;\n",
       "  }\n",
       "  th, td {\n",
       "    padding: 5px;\n",
       "  }\n",
       "  th {\n",
       "    text-align: left;\n",
       "  }\n",
       "</style><div class='table-result-container'><table class='table-result'><thead style='background-color: white'><tr><th>Item Name</th><th>Product Price</th><th>Product PriceB</th><th>count</th><th>Overpayment Value</th></tr></thead><tbody><tr><td>Bhuna</td><td>12.95</td><td>8.95</td><td>19</td><td>4.0</td></tr><tr><td>Pathia</td><td>12.95</td><td>8.95</td><td>17</td><td>4.0</td></tr><tr><td>Korma</td><td>12.95</td><td>8.95</td><td>13</td><td>4.0</td></tr><tr><td>Dupiaza</td><td>12.95</td><td>8.95</td><td>7</td><td>4.0</td></tr><tr><td>Dhansak</td><td>12.95</td><td>8.95</td><td>5</td><td>4.0</td></tr><tr><td>Saag</td><td>12.95</td><td>8.95</td><td>4</td><td>4.0</td></tr><tr><td>Mushroom</td><td>12.95</td><td>8.95</td><td>1</td><td>4.0</td></tr><tr><td>Kurma</td><td>12.95</td><td>8.95</td><td>1</td><td>4.0</td></tr><tr><td>Curry</td><td>11.95</td><td>7.95</td><td>44</td><td>3.999999999999999</td></tr><tr><td>Madras</td><td>11.95</td><td>7.95</td><td>34</td><td>3.999999999999999</td></tr><tr><td>Vindaloo</td><td>11.95</td><td>7.95</td><td>9</td><td>3.999999999999999</td></tr><tr><td>Dhansak</td><td>9.95</td><td>8.95</td><td>37</td><td>1.0</td></tr><tr><td>Korma</td><td>9.95</td><td>8.95</td><td>21</td><td>1.0</td></tr><tr><td>Bhuna</td><td>9.95</td><td>8.95</td><td>8</td><td>1.0</td></tr><tr><td>Pathia</td><td>9.95</td><td>8.95</td><td>7</td><td>1.0</td></tr><tr><td>Rogon</td><td>9.95</td><td>8.95</td><td>3</td><td>1.0</td></tr><tr><td>Malaya</td><td>9.95</td><td>8.95</td><td>2</td><td>1.0</td></tr><tr><td>Kurma</td><td>9.95</td><td>8.95</td><td>2</td><td>1.0</td></tr><tr><td>Saag</td><td>9.95</td><td>8.95</td><td>2</td><td>1.0</td></tr><tr><td>Bombay</td><td>9.95</td><td>8.95</td><td>1</td><td>1.0</td></tr><tr><td>Dupiaza</td><td>9.95</td><td>8.95</td><td>1</td><td>1.0</td></tr><tr><td>Madras</td><td>8.95</td><td>7.95</td><td>163</td><td>0.9999999999999991</td></tr><tr><td>Curry</td><td>8.95</td><td>7.95</td><td>154</td><td>0.9999999999999991</td></tr><tr><td>Vindaloo</td><td>8.95</td><td>7.95</td><td>109</td><td>0.9999999999999991</td></tr></tbody></table></div>"
      ]
     },
     "metadata": {
      "application/vnd.databricks.v1+output": {
       "addedWidgets": {},
       "aggData": [],
       "aggError": "",
       "aggOverflow": false,
       "aggSchema": [],
       "aggSeriesLimitReached": false,
       "aggType": "",
       "arguments": {},
       "columnCustomDisplayInfos": {},
       "data": [
        [
         "Bhuna",
         12.95,
         8.95,
         19,
         4.0
        ],
        [
         "Pathia",
         12.95,
         8.95,
         17,
         4.0
        ],
        [
         "Korma",
         12.95,
         8.95,
         13,
         4.0
        ],
        [
         "Dupiaza",
         12.95,
         8.95,
         7,
         4.0
        ],
        [
         "Dhansak",
         12.95,
         8.95,
         5,
         4.0
        ],
        [
         "Saag",
         12.95,
         8.95,
         4,
         4.0
        ],
        [
         "Mushroom",
         12.95,
         8.95,
         1,
         4.0
        ],
        [
         "Kurma",
         12.95,
         8.95,
         1,
         4.0
        ],
        [
         "Curry",
         11.95,
         7.95,
         44,
         3.999999999999999
        ],
        [
         "Madras",
         11.95,
         7.95,
         34,
         3.999999999999999
        ],
        [
         "Vindaloo",
         11.95,
         7.95,
         9,
         3.999999999999999
        ],
        [
         "Dhansak",
         9.95,
         8.95,
         37,
         1.0
        ],
        [
         "Korma",
         9.95,
         8.95,
         21,
         1.0
        ],
        [
         "Bhuna",
         9.95,
         8.95,
         8,
         1.0
        ],
        [
         "Pathia",
         9.95,
         8.95,
         7,
         1.0
        ],
        [
         "Rogon",
         9.95,
         8.95,
         3,
         1.0
        ],
        [
         "Malaya",
         9.95,
         8.95,
         2,
         1.0
        ],
        [
         "Kurma",
         9.95,
         8.95,
         2,
         1.0
        ],
        [
         "Saag",
         9.95,
         8.95,
         2,
         1.0
        ],
        [
         "Bombay",
         9.95,
         8.95,
         1,
         1.0
        ],
        [
         "Dupiaza",
         9.95,
         8.95,
         1,
         1.0
        ],
        [
         "Madras",
         8.95,
         7.95,
         163,
         0.9999999999999991
        ],
        [
         "Curry",
         8.95,
         7.95,
         154,
         0.9999999999999991
        ],
        [
         "Vindaloo",
         8.95,
         7.95,
         109,
         0.9999999999999991
        ]
       ],
       "datasetInfos": [],
       "dbfsResultPath": null,
       "isJsonSchema": true,
       "metadata": {},
       "overflow": false,
       "plotOptions": {
        "customPlotOptions": {},
        "displayType": "table",
        "pivotAggregation": null,
        "pivotColumns": null,
        "xColumns": null,
        "yColumns": null
       },
       "removedWidgets": [],
       "schema": [
        {
         "metadata": "{}",
         "name": "Item Name",
         "type": "\"string\""
        },
        {
         "metadata": "{}",
         "name": "Product Price",
         "type": "\"double\""
        },
        {
         "metadata": "{}",
         "name": "Product PriceB",
         "type": "\"double\""
        },
        {
         "metadata": "{}",
         "name": "count",
         "type": "\"long\""
        },
        {
         "metadata": "{}",
         "name": "Overpayment Value",
         "type": "\"double\""
        }
       ],
       "type": "table"
      }
     },
     "output_type": "display_data"
    }
   ],
   "source": [
    "overpayment_2 = count_missmatch_2.withColumn('Overpayment Value', count_missmatch_2['Product Price']- count_missmatch_2['Product PriceB'] ).orderBy(['Overpayment Value', 'count'], ascending=[0,0])\n",
    "display(overpayment_2) "
   ]
  },
  {
   "cell_type": "markdown",
   "metadata": {
    "application/vnd.databricks.v1+cell": {
     "cellMetadata": {
      "byteLimit": 2048000,
      "rowLimit": 10000
     },
     "inputWidgets": {},
     "nuid": "48e30eb4-a390-4536-bd64-e0f92ce3ba6f",
     "showTitle": false,
     "title": ""
    }
   },
   "source": [
    "### Most made from item overpayments "
   ]
  },
  {
   "cell_type": "code",
   "execution_count": 0,
   "metadata": {
    "application/vnd.databricks.v1+cell": {
     "cellMetadata": {
      "byteLimit": 2048000,
      "rowLimit": 10000
     },
     "inputWidgets": {},
     "nuid": "41f05277-af62-44d6-bb09-a30ce9977a51",
     "showTitle": false,
     "title": ""
    }
   },
   "outputs": [
    {
     "output_type": "stream",
     "name": "stdout",
     "output_type": "stream",
     "text": [
      "+---------+-------------+--------------+-----+------------------+-----------------------+\n|Item Name|Product Price|Product PriceB|count| Overpayment Value|Total_From_Overpayments|\n+---------+-------------+--------------+-----+------------------+-----------------------+\n|    Curry|        11.95|          7.95|   44| 3.999999999999999|     175.99999999999997|\n|   Madras|         8.95|          7.95|  163|0.9999999999999991|     162.99999999999986|\n|    Curry|         8.95|          7.95|  154|0.9999999999999991|     153.99999999999986|\n|   Madras|        11.95|          7.95|   34| 3.999999999999999|     135.99999999999997|\n| Vindaloo|         8.95|          7.95|  109|0.9999999999999991|      108.9999999999999|\n|    Bhuna|        12.95|          8.95|   19|               4.0|                   76.0|\n|   Pathia|        12.95|          8.95|   17|               4.0|                   68.0|\n|    Korma|        12.95|          8.95|   13|               4.0|                   52.0|\n|  Dhansak|         9.95|          8.95|   37|               1.0|                   37.0|\n| Vindaloo|        11.95|          7.95|    9| 3.999999999999999|      35.99999999999999|\n|  Dupiaza|        12.95|          8.95|    7|               4.0|                   28.0|\n|    Korma|         9.95|          8.95|   21|               1.0|                   21.0|\n|  Dhansak|        12.95|          8.95|    5|               4.0|                   20.0|\n|     Saag|        12.95|          8.95|    4|               4.0|                   16.0|\n|    Bhuna|         9.95|          8.95|    8|               1.0|                    8.0|\n|   Pathia|         9.95|          8.95|    7|               1.0|                    7.0|\n| Mushroom|        12.95|          8.95|    1|               4.0|                    4.0|\n|    Kurma|        12.95|          8.95|    1|               4.0|                    4.0|\n|    Rogon|         9.95|          8.95|    3|               1.0|                    3.0|\n|   Malaya|         9.95|          8.95|    2|               1.0|                    2.0|\n+---------+-------------+--------------+-----+------------------+-----------------------+\nonly showing top 20 rows\n\n"
     ]
    }
   ],
   "source": [
    "revenue_from_overpayment_2 = overpayment_2.withColumn('Total_From_Overpayments', overpayment_2['count']*overpayment_2['Overpayment Value']).orderBy('Total_From_Overpayments',ascending=0)\n",
    "revenue_from_overpayment_2.show() "
   ]
  },
  {
   "cell_type": "markdown",
   "metadata": {
    "application/vnd.databricks.v1+cell": {
     "cellMetadata": {
      "byteLimit": 2048000,
      "rowLimit": 10000
     },
     "inputWidgets": {},
     "nuid": "47856a86-3467-40fa-b77b-c25dc9f4c9d4",
     "showTitle": false,
     "title": ""
    }
   },
   "source": [
    "### Total made by items that are oversold at price N"
   ]
  },
  {
   "cell_type": "code",
   "execution_count": 0,
   "metadata": {
    "application/vnd.databricks.v1+cell": {
     "cellMetadata": {
      "byteLimit": 2048000,
      "rowLimit": 10000
     },
     "inputWidgets": {},
     "nuid": "786605a3-267e-438e-950c-3703a11ad881",
     "showTitle": false,
     "title": ""
    }
   },
   "outputs": [
    {
     "output_type": "display_data",
     "data": {
      "text/html": [
       "<style scoped>\n",
       "  .table-result-container {\n",
       "    max-height: 300px;\n",
       "    overflow: auto;\n",
       "  }\n",
       "  table, th, td {\n",
       "    border: 1px solid black;\n",
       "    border-collapse: collapse;\n",
       "  }\n",
       "  th, td {\n",
       "    padding: 5px;\n",
       "  }\n",
       "  th {\n",
       "    text-align: left;\n",
       "  }\n",
       "</style><div class='table-result-container'><table class='table-result'><thead style='background-color: white'><tr><th>Item Name</th><th>Product Price</th><th>Product PriceB</th><th>count</th><th>Overpayment Value</th><th>Total_From_Overpayments</th><th>Total</th></tr></thead><tbody><tr><td>Madras</td><td>8.95</td><td>7.95</td><td>163</td><td>0.9999999999999991</td><td>162.99999999999986</td><td>1458.85</td></tr><tr><td>Curry</td><td>8.95</td><td>7.95</td><td>154</td><td>0.9999999999999991</td><td>153.99999999999986</td><td>1378.3</td></tr><tr><td>Vindaloo</td><td>8.95</td><td>7.95</td><td>109</td><td>0.9999999999999991</td><td>108.9999999999999</td><td>975.55</td></tr><tr><td>Curry</td><td>11.95</td><td>7.95</td><td>44</td><td>3.999999999999999</td><td>175.99999999999997</td><td>525.8</td></tr><tr><td>Madras</td><td>11.95</td><td>7.95</td><td>34</td><td>3.999999999999999</td><td>135.99999999999997</td><td>406.29999999999995</td></tr><tr><td>Dhansak</td><td>9.95</td><td>8.95</td><td>37</td><td>1.0</td><td>37.0</td><td>368.15</td></tr><tr><td>Bhuna</td><td>12.95</td><td>8.95</td><td>19</td><td>4.0</td><td>76.0</td><td>246.04999999999998</td></tr><tr><td>Pathia</td><td>12.95</td><td>8.95</td><td>17</td><td>4.0</td><td>68.0</td><td>220.14999999999998</td></tr><tr><td>Korma</td><td>9.95</td><td>8.95</td><td>21</td><td>1.0</td><td>21.0</td><td>208.95</td></tr><tr><td>Korma</td><td>12.95</td><td>8.95</td><td>13</td><td>4.0</td><td>52.0</td><td>168.35</td></tr><tr><td>Vindaloo</td><td>11.95</td><td>7.95</td><td>9</td><td>3.999999999999999</td><td>35.99999999999999</td><td>107.55</td></tr><tr><td>Dupiaza</td><td>12.95</td><td>8.95</td><td>7</td><td>4.0</td><td>28.0</td><td>90.64999999999999</td></tr><tr><td>Bhuna</td><td>9.95</td><td>8.95</td><td>8</td><td>1.0</td><td>8.0</td><td>79.6</td></tr><tr><td>Pathia</td><td>9.95</td><td>8.95</td><td>7</td><td>1.0</td><td>7.0</td><td>69.64999999999999</td></tr><tr><td>Dhansak</td><td>12.95</td><td>8.95</td><td>5</td><td>4.0</td><td>20.0</td><td>64.75</td></tr><tr><td>Saag</td><td>12.95</td><td>8.95</td><td>4</td><td>4.0</td><td>16.0</td><td>51.8</td></tr><tr><td>Rogon</td><td>9.95</td><td>8.95</td><td>3</td><td>1.0</td><td>3.0</td><td>29.849999999999998</td></tr><tr><td>Malaya</td><td>9.95</td><td>8.95</td><td>2</td><td>1.0</td><td>2.0</td><td>19.9</td></tr><tr><td>Kurma</td><td>9.95</td><td>8.95</td><td>2</td><td>1.0</td><td>2.0</td><td>19.9</td></tr><tr><td>Saag</td><td>9.95</td><td>8.95</td><td>2</td><td>1.0</td><td>2.0</td><td>19.9</td></tr><tr><td>Mushroom</td><td>12.95</td><td>8.95</td><td>1</td><td>4.0</td><td>4.0</td><td>12.95</td></tr><tr><td>Kurma</td><td>12.95</td><td>8.95</td><td>1</td><td>4.0</td><td>4.0</td><td>12.95</td></tr><tr><td>Bombay</td><td>9.95</td><td>8.95</td><td>1</td><td>1.0</td><td>1.0</td><td>9.95</td></tr><tr><td>Dupiaza</td><td>9.95</td><td>8.95</td><td>1</td><td>1.0</td><td>1.0</td><td>9.95</td></tr></tbody></table></div>"
      ]
     },
     "metadata": {
      "application/vnd.databricks.v1+output": {
       "addedWidgets": {},
       "aggData": [],
       "aggError": "",
       "aggOverflow": false,
       "aggSchema": [],
       "aggSeriesLimitReached": false,
       "aggType": "",
       "arguments": {},
       "columnCustomDisplayInfos": {},
       "data": [
        [
         "Madras",
         8.95,
         7.95,
         163,
         0.9999999999999991,
         162.99999999999986,
         1458.85
        ],
        [
         "Curry",
         8.95,
         7.95,
         154,
         0.9999999999999991,
         153.99999999999986,
         1378.3
        ],
        [
         "Vindaloo",
         8.95,
         7.95,
         109,
         0.9999999999999991,
         108.9999999999999,
         975.55
        ],
        [
         "Curry",
         11.95,
         7.95,
         44,
         3.999999999999999,
         175.99999999999997,
         525.8
        ],
        [
         "Madras",
         11.95,
         7.95,
         34,
         3.999999999999999,
         135.99999999999997,
         406.29999999999995
        ],
        [
         "Dhansak",
         9.95,
         8.95,
         37,
         1.0,
         37.0,
         368.15
        ],
        [
         "Bhuna",
         12.95,
         8.95,
         19,
         4.0,
         76.0,
         246.04999999999998
        ],
        [
         "Pathia",
         12.95,
         8.95,
         17,
         4.0,
         68.0,
         220.14999999999998
        ],
        [
         "Korma",
         9.95,
         8.95,
         21,
         1.0,
         21.0,
         208.95
        ],
        [
         "Korma",
         12.95,
         8.95,
         13,
         4.0,
         52.0,
         168.35
        ],
        [
         "Vindaloo",
         11.95,
         7.95,
         9,
         3.999999999999999,
         35.99999999999999,
         107.55
        ],
        [
         "Dupiaza",
         12.95,
         8.95,
         7,
         4.0,
         28.0,
         90.64999999999999
        ],
        [
         "Bhuna",
         9.95,
         8.95,
         8,
         1.0,
         8.0,
         79.6
        ],
        [
         "Pathia",
         9.95,
         8.95,
         7,
         1.0,
         7.0,
         69.64999999999999
        ],
        [
         "Dhansak",
         12.95,
         8.95,
         5,
         4.0,
         20.0,
         64.75
        ],
        [
         "Saag",
         12.95,
         8.95,
         4,
         4.0,
         16.0,
         51.8
        ],
        [
         "Rogon",
         9.95,
         8.95,
         3,
         1.0,
         3.0,
         29.849999999999998
        ],
        [
         "Malaya",
         9.95,
         8.95,
         2,
         1.0,
         2.0,
         19.9
        ],
        [
         "Kurma",
         9.95,
         8.95,
         2,
         1.0,
         2.0,
         19.9
        ],
        [
         "Saag",
         9.95,
         8.95,
         2,
         1.0,
         2.0,
         19.9
        ],
        [
         "Mushroom",
         12.95,
         8.95,
         1,
         4.0,
         4.0,
         12.95
        ],
        [
         "Kurma",
         12.95,
         8.95,
         1,
         4.0,
         4.0,
         12.95
        ],
        [
         "Bombay",
         9.95,
         8.95,
         1,
         1.0,
         1.0,
         9.95
        ],
        [
         "Dupiaza",
         9.95,
         8.95,
         1,
         1.0,
         1.0,
         9.95
        ]
       ],
       "datasetInfos": [],
       "dbfsResultPath": null,
       "isJsonSchema": true,
       "metadata": {},
       "overflow": false,
       "plotOptions": {
        "customPlotOptions": {},
        "displayType": "table",
        "pivotAggregation": null,
        "pivotColumns": null,
        "xColumns": null,
        "yColumns": null
       },
       "removedWidgets": [],
       "schema": [
        {
         "metadata": "{}",
         "name": "Item Name",
         "type": "\"string\""
        },
        {
         "metadata": "{}",
         "name": "Product Price",
         "type": "\"double\""
        },
        {
         "metadata": "{}",
         "name": "Product PriceB",
         "type": "\"double\""
        },
        {
         "metadata": "{}",
         "name": "count",
         "type": "\"long\""
        },
        {
         "metadata": "{}",
         "name": "Overpayment Value",
         "type": "\"double\""
        },
        {
         "metadata": "{}",
         "name": "Total_From_Overpayments",
         "type": "\"double\""
        },
        {
         "metadata": "{}",
         "name": "Total",
         "type": "\"double\""
        }
       ],
       "type": "table"
      }
     },
     "output_type": "display_data"
    }
   ],
   "source": [
    "Table_total_per_misspriced_item_2 = revenue_from_overpayment_2.withColumn('Total', revenue_from_overpayment_2['count']*revenue_from_overpayment_2['Product Price']).orderBy('Total', ascending=0)\n",
    "display(Table_total_per_misspriced_item_2)"
   ]
  },
  {
   "cell_type": "markdown",
   "metadata": {
    "application/vnd.databricks.v1+cell": {
     "cellMetadata": {
      "byteLimit": 2048000,
      "rowLimit": 10000
     },
     "inputWidgets": {},
     "nuid": "b9e33132-82cb-4f5e-9a04-73f8d259ea90",
     "showTitle": false,
     "title": ""
    }
   },
   "source": [
    "### Correct Total: Given that items names appear twice due to having multiple overpayment values\n",
    "- e.g. Madras (8.95 and 11.95) instead of 7.95"
   ]
  },
  {
   "cell_type": "code",
   "execution_count": 0,
   "metadata": {
    "application/vnd.databricks.v1+cell": {
     "cellMetadata": {
      "byteLimit": 2048000,
      "rowLimit": 10000
     },
     "inputWidgets": {},
     "nuid": "0acf616a-b7c8-47e0-aad5-5a298c07f10a",
     "showTitle": false,
     "title": ""
    }
   },
   "outputs": [
    {
     "output_type": "stream",
     "name": "stdout",
     "output_type": "stream",
     "text": [
      "+---------+------------------+\n|Item Name|             Total|\n+---------+------------------+\n|    Curry|            1904.1|\n|   Madras|1865.1499999999999|\n| Vindaloo|            1083.1|\n|  Dhansak|             432.9|\n|    Korma|377.29999999999995|\n|    Bhuna|            325.65|\n|   Pathia|289.79999999999995|\n|  Dupiaza|             100.6|\n|     Saag| 71.69999999999999|\n|    Kurma|32.849999999999994|\n|    Rogon|29.849999999999998|\n|   Malaya|              19.9|\n| Mushroom|             12.95|\n|   Bombay|              9.95|\n+---------+------------------+\n\n"
     ]
    }
   ],
   "source": [
    "item_total_2 = Table_total_per_misspriced_item_2.groupBy('Item Name').sum('Total')\n",
    "item_total_2 = item_total_2.withColumnRenamed(\"sum(Total)\",\"Total\").orderBy('Total', ascending=0)\n",
    "item_total_2.show()"
   ]
  },
  {
   "cell_type": "code",
   "execution_count": 0,
   "metadata": {
    "application/vnd.databricks.v1+cell": {
     "cellMetadata": {
      "byteLimit": 2048000,
      "rowLimit": 10000
     },
     "inputWidgets": {},
     "nuid": "d7eaaafa-368f-4267-ab32-c73a9ea508c2",
     "showTitle": false,
     "title": ""
    }
   },
   "outputs": [
    {
     "output_type": "display_data",
     "data": {
      "text/html": [
       "<div>\n",
       "<style scoped>\n",
       "    .dataframe tbody tr th:only-of-type {\n",
       "        vertical-align: middle;\n",
       "    }\n",
       "\n",
       "    .dataframe tbody tr th {\n",
       "        vertical-align: top;\n",
       "    }\n",
       "\n",
       "    .dataframe thead th {\n",
       "        text-align: right;\n",
       "    }\n",
       "</style>\n",
       "<table border=\"1\" class=\"dataframe\">\n",
       "  <thead>\n",
       "    <tr style=\"text-align: right;\">\n",
       "      <th></th>\n",
       "      <th>Item Name</th>\n",
       "      <th>Total</th>\n",
       "    </tr>\n",
       "  </thead>\n",
       "  <tbody>\n",
       "    <tr>\n",
       "      <th>0</th>\n",
       "      <td>Curry</td>\n",
       "      <td>1904.10</td>\n",
       "    </tr>\n",
       "    <tr>\n",
       "      <th>1</th>\n",
       "      <td>Madras</td>\n",
       "      <td>1865.15</td>\n",
       "    </tr>\n",
       "    <tr>\n",
       "      <th>2</th>\n",
       "      <td>Vindaloo</td>\n",
       "      <td>1083.10</td>\n",
       "    </tr>\n",
       "    <tr>\n",
       "      <th>3</th>\n",
       "      <td>Dhansak</td>\n",
       "      <td>432.90</td>\n",
       "    </tr>\n",
       "    <tr>\n",
       "      <th>4</th>\n",
       "      <td>Korma</td>\n",
       "      <td>377.30</td>\n",
       "    </tr>\n",
       "  </tbody>\n",
       "</table>\n",
       "</div>"
      ]
     },
     "metadata": {
      "application/vnd.databricks.v1+output": {
       "addedWidgets": {},
       "arguments": {},
       "data": "<div>\n<style scoped>\n    .dataframe tbody tr th:only-of-type {\n        vertical-align: middle;\n    }\n\n    .dataframe tbody tr th {\n        vertical-align: top;\n    }\n\n    .dataframe thead th {\n        text-align: right;\n    }\n</style>\n<table border=\"1\" class=\"dataframe\">\n  <thead>\n    <tr style=\"text-align: right;\">\n      <th></th>\n      <th>Item Name</th>\n      <th>Total</th>\n    </tr>\n  </thead>\n  <tbody>\n    <tr>\n      <th>0</th>\n      <td>Curry</td>\n      <td>1904.10</td>\n    </tr>\n    <tr>\n      <th>1</th>\n      <td>Madras</td>\n      <td>1865.15</td>\n    </tr>\n    <tr>\n      <th>2</th>\n      <td>Vindaloo</td>\n      <td>1083.10</td>\n    </tr>\n    <tr>\n      <th>3</th>\n      <td>Dhansak</td>\n      <td>432.90</td>\n    </tr>\n    <tr>\n      <th>4</th>\n      <td>Korma</td>\n      <td>377.30</td>\n    </tr>\n  </tbody>\n</table>\n</div>",
       "datasetInfos": [],
       "metadata": {},
       "removedWidgets": [],
       "textData": null,
       "type": "htmlSandbox"
      }
     },
     "output_type": "display_data"
    }
   ],
   "source": [
    "item_total_2 = item_total_2.toPandas()\n",
    "item_total_top_5_2 = item_total_2.head()\n",
    "item_total_top_5_2"
   ]
  },
  {
   "cell_type": "code",
   "execution_count": 0,
   "metadata": {
    "application/vnd.databricks.v1+cell": {
     "cellMetadata": {
      "byteLimit": 2048000,
      "rowLimit": 10000
     },
     "inputWidgets": {},
     "nuid": "034cf49e-5551-4787-9ad1-2710e3577b06",
     "showTitle": false,
     "title": ""
    }
   },
   "outputs": [
    {
     "output_type": "stream",
     "name": "stdout",
     "output_type": "stream",
     "text": [
      "Out[84]: Text(0, 0.5, '(£)')"
     ]
    },
    {
     "output_type": "display_data",
     "data": {
      "image/png": "[encoded data removed]"
     },
     "metadata": {
      "application/vnd.databricks.v1+output": {
       "addedWidgets": {},
       "arguments": {},
       "data": "data:image/png;base64,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\n",
       "datasetInfos": [],
       "metadata": {},
       "removedWidgets": [],
       "type": "image"
      }
     },
     "output_type": "display_data"
    }
   ],
   "source": [
    "import matplotlib.pyplot as plt \n",
    "\n",
    "sns.barplot(data=item_total_top_5_2, x = 'Item Name', y = 'Total')\n",
    "plt.title('Money made from the set of missold items (Company B)')\n",
    "plt.ylabel('(£)')"
   ]
  },
  {
   "cell_type": "code",
   "execution_count": 0,
   "metadata": {
    "application/vnd.databricks.v1+cell": {
     "cellMetadata": {
      "byteLimit": 2048000,
      "rowLimit": 10000
     },
     "inputWidgets": {},
     "nuid": "0a39e8af-c705-475f-81b7-1ad2607a781f",
     "showTitle": false,
     "title": ""
    }
   },
   "outputs": [
    {
     "output_type": "stream",
     "name": "stdout",
     "output_type": "stream",
     "text": [
      "+---------+--------------------------+\n|Item Name|Total Made On Overpayments|\n+---------+--------------------------+\n|    Curry|        329.99999999999983|\n|   Madras|        298.99999999999983|\n| Vindaloo|         144.9999999999999|\n|    Bhuna|                      84.0|\n|   Pathia|                      75.0|\n|    Korma|                      73.0|\n|  Dhansak|                      57.0|\n|  Dupiaza|                      29.0|\n|     Saag|                      18.0|\n|    Kurma|                       6.0|\n| Mushroom|                       4.0|\n|    Rogon|                       3.0|\n|   Malaya|                       2.0|\n|   Bombay|                       1.0|\n+---------+--------------------------+\n\n"
     ]
    }
   ],
   "source": [
    "overpayment_per_item_2 = Table_total_per_misspriced_item_2.groupBy('Item Name').sum('Total_From_Overpayments')\n",
    "overpayment_per_item_2 = overpayment_per_item_2.withColumnRenamed(\"sum(Total_From_Overpayments)\",\"Total Made On Overpayments\").orderBy('Total Made On Overpayments', ascending=0)\n",
    "overpayment_per_item_2.show()"
   ]
  },
  {
   "cell_type": "markdown",
   "metadata": {
    "application/vnd.databricks.v1+cell": {
     "cellMetadata": {
      "byteLimit": 2048000,
      "rowLimit": 10000
     },
     "inputWidgets": {},
     "nuid": "df2fe007-ed9f-41a9-9d9e-77a04f457d39",
     "showTitle": false,
     "title": ""
    }
   },
   "source": [
    "### Converts the table to a pandas dataframe for plotting purposes"
   ]
  },
  {
   "cell_type": "code",
   "execution_count": 0,
   "metadata": {
    "application/vnd.databricks.v1+cell": {
     "cellMetadata": {
      "byteLimit": 2048000,
      "rowLimit": 10000
     },
     "inputWidgets": {},
     "nuid": "4eec0c82-f31f-4706-adbb-a7ea651b4e22",
     "showTitle": false,
     "title": ""
    }
   },
   "outputs": [],
   "source": [
    "# Converts the table to a pandas dataframe for plotting purposes\n",
    "\n",
    "overpayment_per_item_2 = overpayment_per_item_2.toPandas()\n",
    "overpayment_per_item_2_top_5 = overpayment_per_item_2.head() "
   ]
  },
  {
   "cell_type": "markdown",
   "metadata": {
    "application/vnd.databricks.v1+cell": {
     "cellMetadata": {
      "byteLimit": 2048000,
      "rowLimit": 10000
     },
     "inputWidgets": {},
     "nuid": "78b11d8d-0d1a-400e-ab24-dc9fcb4e990b",
     "showTitle": false,
     "title": ""
    }
   },
   "source": [
    "### Plot of top 5 items by how much in total customers paid over the sell price (Company B)"
   ]
  },
  {
   "cell_type": "code",
   "execution_count": 0,
   "metadata": {
    "application/vnd.databricks.v1+cell": {
     "cellMetadata": {
      "byteLimit": 2048000,
      "rowLimit": 10000
     },
     "inputWidgets": {},
     "nuid": "d3457e6e-a559-4e33-a8b8-28a172a75b57",
     "showTitle": false,
     "title": ""
    }
   },
   "outputs": [
    {
     "output_type": "stream",
     "name": "stdout",
     "output_type": "stream",
     "text": [
      "Out[87]: Text(0, 0.5, '(£)')"
     ]
    },
    {
     "output_type": "display_data",
     "data": {
      "image/png": "[encoded data removed]"
     },
     "metadata": {
      "application/vnd.databricks.v1+output": {
       "addedWidgets": {},
       "arguments": {},
       "data": "data:image/png;base64,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\n",
       "datasetInfos": [],
       "metadata": {},
       "removedWidgets": [],
       "type": "image"
      }
     },
     "output_type": "display_data"
    }
   ],
   "source": [
    "sns.barplot(data=overpayment_per_item_2_top_5, x = 'Item Name', y = 'Total Made On Overpayments')\n",
    "plt.title('Top 5 items by money made from overpayments (Company B)')\n",
    "plt.ylabel('(£)')"
   ]
  },
  {
   "cell_type": "markdown",
   "metadata": {
    "application/vnd.databricks.v1+cell": {
     "cellMetadata": {
      "byteLimit": 2048000,
      "rowLimit": 10000
     },
     "inputWidgets": {},
     "nuid": "be48ef5a-92e6-4704-9afb-03953fc514a0",
     "showTitle": false,
     "title": ""
    }
   },
   "source": [
    "### Money made from customers paying more than the product price (Company B)"
   ]
  },
  {
   "cell_type": "code",
   "execution_count": 0,
   "metadata": {
    "application/vnd.databricks.v1+cell": {
     "cellMetadata": {
      "byteLimit": 2048000,
      "rowLimit": 10000
     },
     "inputWidgets": {},
     "nuid": "d9914389-b9bc-4040-beea-7d72d8df2710",
     "showTitle": false,
     "title": ""
    }
   },
   "outputs": [
    {
     "output_type": "stream",
     "name": "stdout",
     "output_type": "stream",
     "text": [
      "Out[88]: 1125.9999999999995"
     ]
    }
   ],
   "source": [
    "overpayment_per_item_2['Total Made On Overpayments'].sum() # £1125 pounds made from overpayments "
   ]
  },
  {
   "cell_type": "markdown",
   "metadata": {
    "application/vnd.databricks.v1+cell": {
     "cellMetadata": {},
     "inputWidgets": {},
     "nuid": "5caf133f-e076-471c-a3b9-ccbf2140f532",
     "showTitle": false,
     "title": ""
    }
   },
   "source": [
    "### Shows items by the number of orders (Company B)\n",
    "####Top 3\n",
    "- Pilau Rice : 8370\n",
    "- Naan : 6679 \n",
    "- Plain Papadum : 6431"
   ]
  },
  {
   "cell_type": "code",
   "execution_count": 0,
   "metadata": {
    "application/vnd.databricks.v1+cell": {
     "cellMetadata": {
      "byteLimit": 2048000,
      "rowLimit": 10000
     },
     "inputWidgets": {},
     "nuid": "4e9bdfe9-b2f4-4dab-90c8-04b5ec50a938",
     "showTitle": false,
     "title": ""
    }
   },
   "outputs": [
    {
     "output_type": "stream",
     "name": "stdout",
     "output_type": "stream",
     "text": [
      "+--------------------+-------------+-----+\n|           Item Name|Product Price|count|\n+--------------------+-------------+-----+\n|          Pilau Rice|         2.95| 8370|\n|                Naan|          2.5| 6679|\n|       Plain Papadum|          0.8| 6431|\n|         Bombay Aloo|         5.95| 4128|\n|         Garlic Naan|         2.95| 3920|\n|         Onion Bhaji|         3.95| 3593|\n|Chicken Tikka Masala|         8.95| 3487|\n|       Mango Chutney|          0.5| 3435|\n|       Mushroom Rice|         3.95| 2963|\n|          Plain Rice|         2.95| 2800|\n|          Mint Sauce|          0.5| 2498|\n|          Keema Naan|         2.95| 2463|\n|       Peshwari Naan|         2.95| 2173|\n|           Saag Aloo|         5.95| 2039|\n|       Onion Chutney|          0.5| 1815|\n|          Mini Bhaji|         3.95| 1719|\n|               Korma|         8.95| 1625|\n|      Butter Chicken|         8.95| 1515|\n|              Madras|         7.95| 1502|\n|           Red Sauce|          0.5| 1453|\n+--------------------+-------------+-----+\nonly showing top 20 rows\n\n"
     ]
    }
   ],
   "source": [
    "Count_All_2 = restaurant_2_orders_no_duplicates.groupBy('Item Name','Product Price').count().orderBy('count', ascending=0)\n",
    "Count_All_2.show()"
   ]
  },
  {
   "cell_type": "markdown",
   "metadata": {
    "application/vnd.databricks.v1+cell": {
     "cellMetadata": {},
     "inputWidgets": {},
     "nuid": "fc6b5456-a8a0-4c56-b830-f801d8f30b6e",
     "showTitle": false,
     "title": ""
    }
   },
   "source": [
    "### Shows items by total revenue generated (Company B)\n",
    "####Top 3\n",
    "- Chicken Tikka Masala : 31208\n",
    "- Pilau Rice : 24691 \n",
    "- Bombay Aloo : 24561"
   ]
  },
  {
   "cell_type": "code",
   "execution_count": 0,
   "metadata": {
    "application/vnd.databricks.v1+cell": {
     "cellMetadata": {
      "byteLimit": 2048000,
      "rowLimit": 10000
     },
     "inputWidgets": {},
     "nuid": "a98aeb35-10fa-4920-af28-4c6a31546ec3",
     "showTitle": false,
     "title": ""
    }
   },
   "outputs": [
    {
     "output_type": "stream",
     "name": "stdout",
     "output_type": "stream",
     "text": [
      "+--------------------+------------------+\n|           Item Name|       Total_Price|\n+--------------------+------------------+\n|Chicken Tikka Masala|31208.649999999998|\n|          Pilau Rice|           24691.5|\n|         Bombay Aloo|24561.600000000002|\n|                Naan|           16697.5|\n|               Korma|          14921.05|\n|         Onion Bhaji|          14192.35|\n|              Madras|          13806.05|\n|      Butter Chicken|13559.249999999998|\n|Tandoori Mixed Grill|           12547.5|\n|           Saag Aloo|12132.050000000001|\n|       Mushroom Rice|          11703.85|\n|Chicken Tikka (Main)|          11697.65|\n|         Garlic Naan|           11564.0|\n|     Chicken Biryani| 9333.099999999999|\n|     Korma - Chicken|            9308.0|\n|               Curry|            8516.5|\n|          Plain Rice|            8260.0|\n|          Keema Naan|           7265.85|\n|Chicken Tikka Jal...| 7204.749999999999|\n|Chicken Tikka Bir...|           7084.65|\n+--------------------+------------------+\nonly showing top 20 rows\n\n"
     ]
    }
   ],
   "source": [
    "total_all_2 = Count_All_2.withColumn('Total_Price', Count_All_2['count']*Count_All_2['Product Price']).orderBy('Total_Price',ascending=0)\n",
    "total_all_2 = total_all_2.groupBy('Item Name').sum('Total_Price')\n",
    "total_all_2 = total_all_2.withColumnRenamed(\"sum(Total_Price)\",\"Total_Price\").orderBy('Total_Price', ascending=0)\n",
    "total_all_2.show()"
   ]
  },
  {
   "cell_type": "markdown",
   "metadata": {
    "application/vnd.databricks.v1+cell": {
     "cellMetadata": {},
     "inputWidgets": {},
     "nuid": "c4e54b4f-d5ee-47e7-8569-c25f6478b10e",
     "showTitle": false,
     "title": ""
    }
   },
   "source": [
    "### Total revenue from of company B: 607,358"
   ]
  },
  {
   "cell_type": "code",
   "execution_count": 0,
   "metadata": {
    "application/vnd.databricks.v1+cell": {
     "cellMetadata": {
      "byteLimit": 2048000,
      "rowLimit": 10000
     },
     "inputWidgets": {},
     "nuid": "50e5e543-d666-49bb-b474-6145fb2564b4",
     "showTitle": false,
     "title": ""
    }
   },
   "outputs": [
    {
     "output_type": "stream",
     "name": "stdout",
     "output_type": "stream",
     "text": [
      "Out[106]: 607358.3500000001"
     ]
    }
   ],
   "source": [
    "total_rev_2 = total_all_2.toPandas()\n",
    "total_rev_2 = total_rev_2['Total_Price'].sum()\n",
    "total_rev_2"
   ]
  },
  {
   "cell_type": "markdown",
   "metadata": {
    "application/vnd.databricks.v1+cell": {
     "cellMetadata": {},
     "inputWidgets": {},
     "nuid": "93a36991-472a-45d1-b57f-72bd77d42bd7",
     "showTitle": false,
     "title": ""
    }
   },
   "source": [
    "\n",
    "# Overall Findings: \n",
    "The total revenue of company B is almost double that of company A (607,358 vs 394,803)  \n",
    "\n",
    "The most succesful items by revenue generation were:  \n",
    "\n",
    "for company A..  \n",
    "\n",
    "- Chicken Tikka Masala : 19090\n",
    "- Pilau Rice : 13926 \n",
    "- Korma : 10640\n",
    "\n",
    "for company B..  \n",
    "\n",
    "- Chicken Tikka Masala : 31208\n",
    "- Pilau Rice : 24691 \n",
    "- Bombay Aloo : 24561  \n",
    "\n",
    "Pilau Rice and Chicken Tikka Masala occur in both  \n",
    "\n",
    "The most popular items were: \n",
    "\n",
    "for company A.. \n",
    "\n",
    "- Pilau Rice : 4721 \n",
    "- Plain Naan : 3752 \n",
    "- Plain Papadum : 3596\n",
    "\n",
    "for company B..  \n",
    "\n",
    "- Pilau Rice : 8370\n",
    "- Naan : 6679 \n",
    "- Plain Papadum : 6431\n",
    "\n",
    "Again the same items appear to be the most popular despite the company. Company B has double the orders however. \n",
    "\n",
    "\n",
    "\n",
    "\n",
    "Also Company A made at total of £1420 from overpayments by customers, while Company B made a total of £1125 made from overpayments. This is interesting because despite company B making more money and generating more orders overall.\n",
    "\n",
    "Company A:  \n",
    "\n",
    "1- either has very generous customers  \n",
    "\n",
    "2- is overcharging customers on their order  \n",
    "\n",
    "3- hasn't updated their information in the products csv. \n",
    "\n",
    "\n",
    "\n",
    "Chicken Korma makes up for most of the overpaid for items by customers of company A, While there is a more even distribution between overpaid items by customers of company B. \n",
    "\n",
    "Company B has 119005 orders in total while company A has 74721, once duplicates are removed. \n",
    "\n",
    "\n",
    "\n",
    "\n",
    "\n",
    "\n",
    "\n",
    "\n",
    "\n",
    "\n",
    "\n",
    "\n",
    "\n",
    "\n"
   ]
  }
 ],
 "metadata": {
  "application/vnd.databricks.v1+notebook": {
   "dashboards": [],
   "language": "python",
   "notebookMetadata": {
    "pythonIndentUnit": 4
   },
   "notebookName": "MiniProject Notebook 2023-09-19 13:41:45",
   "widgets": {}
  }
 },
 "nbformat": 4,
 "nbformat_minor": 0
}
